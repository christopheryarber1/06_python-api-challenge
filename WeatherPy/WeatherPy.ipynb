{
 "cells": [
  {
   "cell_type": "markdown",
   "metadata": {},
   "source": [
    "# WeatherPy\n",
    "----\n",
    "\n",
    "#### Note\n",
    "* Instructions have been included for each segment. You do not have to follow them exactly, but they are included to help you think through the steps."
   ]
  },
  {
   "cell_type": "code",
   "execution_count": 65,
   "metadata": {
    "scrolled": true
   },
   "outputs": [],
   "source": [
    "# Dependencies and Setup\n",
    "import matplotlib.pyplot as plt\n",
    "import pandas as pd\n",
    "import numpy as np\n",
    "import requests\n",
    "import time\n",
    "from scipy.stats import linregress\n",
    "from scipy import stats\n",
    "import json\n",
    "import os\n",
    "import csv\n",
    "\n",
    "\n",
    "# Import API key\n",
    "from api_keys import weather_api_key\n",
    "\n",
    "# Incorporated citipy to determine city based on latitude and longitude\n",
    "from citipy import citipy\n",
    "\n",
    "# Output File (CSV)\n",
    "output_data_file = \"output_data/cities.csv\"\n",
    "\n",
    "# Range of latitudes and longitudes\n",
    "lat_range = (-90, 90)\n",
    "lng_range = (-180, 180)"
   ]
  },
  {
   "cell_type": "markdown",
   "metadata": {},
   "source": [
    "## Generate Cities List"
   ]
  },
  {
   "cell_type": "code",
   "execution_count": 32,
   "metadata": {},
   "outputs": [
    {
     "data": {
      "text/plain": [
       "624"
      ]
     },
     "execution_count": 32,
     "metadata": {},
     "output_type": "execute_result"
    }
   ],
   "source": [
    "# List for holding lat_lngs and cities\n",
    "lat_lngs = []\n",
    "cities = []\n",
    "\n",
    "# Create a set of random lat and lng combinations\n",
    "lats = np.random.uniform(lat_range[0], lat_range[1], size=1500)\n",
    "lngs = np.random.uniform(lng_range[0], lng_range[1], size=1500)\n",
    "lat_lngs = zip(lats, lngs)\n",
    "\n",
    "# Identify nearest city for each lat, lng combination\n",
    "for lat_lng in lat_lngs:\n",
    "    city = citipy.nearest_city(lat_lng[0], lat_lng[1]).city_name\n",
    "    \n",
    "    # If the city is unique, then add it to a our cities list\n",
    "    if city not in cities:\n",
    "        cities.append(city)\n",
    "\n",
    "# Print the city count to confirm sufficient count\n",
    "len(cities)"
   ]
  },
  {
   "cell_type": "markdown",
   "metadata": {},
   "source": [
    "### Perform API Calls\n",
    "* Perform a weather check on each city using a series of successive API calls.\n",
    "* Include a print log of each city as it'sbeing processed (with the city number and city name).\n",
    "\n",
    "> **HINT:** The OpenWeatherMap API only allows 60 calls per minute under their free plan. Try using `time.sleep(60)` after each set of 50 cities to avoid API errors due to large calls."
   ]
  },
  {
   "cell_type": "code",
   "execution_count": 33,
   "metadata": {},
   "outputs": [
    {
     "name": "stdout",
     "output_type": "stream",
     "text": [
      "['cidreira', 'busselton', 'saskylakh', 'attawapiskat', 'la ronge', 'pevek', 'namtsy', 'rikitea', 'tuggurt', 'airai', 'bluff', 'mataura', 'georgetown', 'lebu', 'port elizabeth', 'amderma', 'anopino', 'shingu', 'pacific grove', 'saint-philippe', 'bisira', 'avera', 'dukat', 'rawson', 'labuhan', 'torbay', 'kaeo', 'nanortalik', 'upernavik', 'narsaq', 'nikolskoye', 'bethel', 'arona', 'tasiilaq', 'hermanus', 'grand-santi', 'bredasdorp', 'faanui', 'jamestown', 'khandagayty', 'illoqqortoormiut', 'taolanaro', 'cabo san lucas', 'tuktoyaktuk', 'yar-sale', 'belushya guba', 'punta arenas', 'greiz', 'warqla', 'general roca', 'clyde river', 'longyearbyen', 'qaanaaq', 'kapaa', 'kazalinsk', 'fairbanks', 'itoman', 'lolua', 'bowen', 'brae', 'makakilo city', 'ushuaia', 'cape town', 'kruisfontein', 'new norfolk', 'hobart', 'nalut', 'mys shmidta', 'san quintin', 'kaputa', 'port-cartier', 'talnakh', 'arraial do cabo', 'mahebourg', 'hasaki', 'karaul', 'atuona', 'severo-kurilsk', 'kahului', 'mar del plata', 'broken hill', 'bambous virieux', 'hithadhoo', 'kijang', 'tsihombe', 'vaini', 'te anau', 'muyezerskiy', 'salmon creek', 'safford', 'buraydah', 'ilhabela', 'halalo', 'kavieng', 'burgthann', 'denau', 'vao', 'kambove', 'marsala', 'geraldton', 'castro', 'paciran', 'jieshi', 'nouakchott', 'labuan', 'west monroe', 'dingle', 'litovko', 'kidal', 'norman wells', 'sujawal', 'mainaguri', 'monywa', 'the valley', 'college', 'butaritari', 'spornoye', 'sao felix do xingu', 'myitkyina', 'ust-maya', 'trairi', 'cherskiy', 'yarada', 'kodiak', 'alice springs', 'vaitupu', 'sioux lookout', 'ribeira grande', 'prosvet', 'palabuhanratu', 'auki', 'mlonggo', 'markova', 'san patricio', 'ostrovnoy', 'mana', 'port alfred', 'verkhnyaya inta', 'oranjemund', 'tiksi', 'sauda', 'albany', 'sao filipe', 'comodoro rivadavia', 'hambantota', 'cordoba', 'esperance', 'hilo', 'mehran', 'ponta do sol', 'aswan', 'mangrol', 'hamilton', 'barentsburg', 'portland', 'lompoc', 'karamay', 'port-gentil', 'ulladulla', 'shitanjing', 'mehamn', 'nouadhibou', 'magadan', 'nanga eboko', 'dillon', 'zhezkazgan', 'dikson', 'nizhneyansk', 'champerico', 'barbar', 'saint-joseph', 'kalianget', 'mayo', 'kununurra', 'keflavik', 'half moon bay', 'san andres', 'pouebo', 'abha', 'tecoanapa', 'coihaique', 'krasnyy chikoy', 'bac lieu', 'avarua', 'mikuni', 'haines junction', 'chokurdakh', 'thompson', 'kehtna', 'tunceli', 'mecca', 'xichang', 'matangad', 'gat', 'igarka', 'leningradskiy', 'kennett', 'karratha', 'rocha', 'kungurtug', 'ucluelet', 'alofi', 'dunedin', 'ukiah', 'carnarvon', 'visnes', 'melville', 'manitowoc', 'saint george', 'ulhasnagar', 'gizo', 'roald', 'goias', 'amparafaravola', 'shahpur city', 'tumannyy', 'almenevo', 'sentyabrskiy', 'sataua', 'worthington', 'tonekabon', 'marcona', 'komsomolets', 'saleaula', 'nome', 'ilulissat', 'porto novo', 'helong', 'boende', 'dauphin', 'chumikan', 'chapais', 'biak', 'chuy', 'faya', 'atar', 'port huron', 'barrow', 'semey', 'klaksvik', 'nisia floresta', 'petropavlovsk-kamchatskiy', 'zhuhai', 'khatanga', 'deqing', 'portales', 'hollola', 'flinders', 'port pirie', 'constitucion', 'dudinka', 'henties bay', 'koboldo', 'voh', 'newberry', 'xining', 'ranong', 'sinnamary', 'jacareacanga', 'kukuna', 'meulaboh', 'tezu', 'yambio', 'takoradi', 'yaonahuac', 'battle creek', 'kamaishi', 'lazaro cardenas', 'dublin', 'west bay', 'kaitangata', 'rockhampton', 'bilibino', 'marktredwitz', 'chapleau', 'vardo', 'verkhoyansk', 'ossora', 'pyapon', 'goure', 'yellowknife', 'puerto armuelles', 'aklavik', 'umzimvubu', 'clarence town', 'gazanjyk', 'caravelas', 'lavrentiya', 'samusu', 'moose jaw', 'burica', 'mahina', 'ironton', 'xalpatlahuac', 'east london', 'pustoshka', 'victoria', 'bengkulu', 'rochegda', 'bogatoye', 'ankazoabo', 'filingue', 'maxixe', 'san policarpo', 'zenzeli', 'sistranda', 'warrnambool', 'bolungarvik', 'grand river south east', 'armacao dos buzios', 'la romana', 'puerto ayora', 'geelong', 'guerrero negro', 'sechura', 'bagdarin', 'iqaluit', 'ambon', 'kuusamo', 'itirucu', 'chardara', 'ozernovskiy', 'gold coast', 'mandalgovi', 'salalah', 'praia', 'banda aceh', 'saint-felicien', 'nioro', 'jalu', 'padang', 'provideniya', 'hovd', 'cayenne', 'bako', 'tasbuget', 'pisco', 'kuching', 'rock sound', 'misratah', 'margate', 'walvis bay', 'hearst', 'eureka', 'pangai', 'mayen', 'oslob', 'laukaa', 'porto velho', 'sangar', 'oktyabrskiy', 'kamenskoye', 'darhan', 'saldanha', 'katsuura', 'jishou', 'nyurba', 'haukipudas', 'sault sainte marie', 'cap malheureux', 'kavaratti', 'krasnoselkup', 'cheuskiny', 'arlit', 'moundou', 'buala', 'laguna de duero', 'coruripe', 'maarsen', 'berdigestyakh', 'tawkar', 'laizhou', 'port lincoln', 'oranjestad', 'warri', 'toamasina', 'blacklick estates', 'oytal', 'ndjole', 'columbus', 'puerto madero', 'abasolo', 'ife', 'quzhou', 'coahuayana', 'byron bay', 'beringovskiy', 'viedma', 'vostok', 'bergkamen', 'ampanihy', 'chiautla', 'linxia', 'kasulu', 'camana', 'chumphon', 'kropotkin', 'jumla', 'ojinaga', 'la rioja', 'lima', 'dordrecht', 'sham churasi', 'spruce grove', 'curaca', 'mahadday weyne', 'bur gabo', 'kikwit', 'puerto baquerizo moreno', 'diamantino', 'jingdezhen', 'okato', 'namatanai', 'kouango', 'derzhavinsk', 'acapulco', 'lardos', 'port hardy', 'sedelnikovo', 'souillac', 'grand gaube', 'point fortin', 'samarai', 'trincomalee', 'ketchikan', 'puerto del rosario', 'chatrapur', 'port macquarie', 'tazovskiy', 'ouadda', 'saint-pierre', 'vera cruz', 'naifaru', 'pilar', 'yerbogachen', 'deniliquin', 'tibu', 'sabha', 'antalaha', 'kumo', 'bonavista', 'granard', 'oyama', 'otradnoye', 'vila franca do campo', 'khatra', 'enshi', 'fortuna', 'loa janan', 'karamea', 'kanigoro', 'pascagoula', 'vila velha', 'camacha', 'magaria', 'alta floresta', 'westport', 'iskateley', 'belmonte', 'talcahuano', 'aguimes', 'pervomayskiy', 'adrar', 'chipinge', 'san cristobal', 'gorontalo', 'benemerito de las americas', 'guangyuan', 'thinadhoo', 'sturgis', 'ancud', 'sao miguel do araguaia', 'kanker', 'bichura', 'lagoa', 'nanyamba', 'judaberg', 'canazas', 'hokitika', 'coquimbo', 'egvekinot', 'kirakira', 'bonthe', 'sanchazi', 'kazachinskoye', 'bella union', 'tuatapere', 'qunduz', 'hailar', 'tarudant', 'nemuro', 'hinton', 'sitka', 'tingrela', 'urumqi', 'riyadh', 'guye', 'havoysund', 'trelew', 'naze', 'dong hoi', 'arrifes', 'sarandi', 'puri', 'kodinar', 'pescara', 'anloga', 'yeppoon', 'zhigansk', 'luba', 'ituni', 'hihifo', 'lewisporte', 'bubaque', 'antofagasta', 'kamenka', 'sao joao da barra', 'santa cruz', 'tomatlan', 'beloha', 'mabaruma', 'wagar', 'brewster', 'dutlwe', 'vaitape', 'razlog', 'svetlaya', 'palana', 'husavik', 'quelimane', 'usinsk', 'freeport', 'sorland', 'huarmey', 'ilfracombe', 'pemangkat', 'korla', 'columbia', 'wahran', 'bathsheba', 'praia da vitoria', 'gasa', 'necochea', 'mujiayingzi', 'choachi', 'semnan', 'yulara', 'whitehorse', 'taywarah', 'that phanom', 'ortigueira', 'roebourne', 'pangnirtung', 'fort nelson', 'londoko', 'carnot', 'saint anthony', 'cabedelo', 'marawi', 'itarema', 'batticaloa', 'baruun-urt', 'los llanos de aridane', 'lexington', 'timizart', 'concepcion del uruguay', 'brisbane', 'brainerd', 'touros', 'calvinia', 'chake chake', 'khandyga', 'hofn', 'bedford', 'kyren', 'bossangoa', 'cedro', 'san pedro', 'tiznit', 'clinton', 'baker', 'altamira', 'sept-iles', 'simao', 'penzance', 'shubarshi', 'urusha', 'muros', 'binga', 'santa cruz de tenerife', 'ambovombe', 'sanmenxia', 'balsas', 'southbridge', 'traralgon', 'tianpeng', 'xiongshi', 'nosy varika', 'oktyabrskoye', 'dzerzhinskoye', 'aybak', 'kurumkan', 'davila', 'bintulu', 'blackfoot', 'benghazi', 'bonoua', 'honningsvag', 'lata', 'poco verde', 'trinidad', 'caloundra', 'falam', 'azogues', 'shelburne', 'chatra', 'chavakkad', 'mahajanga', 'batagay-alyta', 'pavilosta', 'cuamba', 'palmer', 'bilma', 'asuncion nochixtlan']\n"
     ]
    }
   ],
   "source": [
    "print(cities)"
   ]
  },
  {
   "cell_type": "code",
   "execution_count": 137,
   "metadata": {
    "scrolled": false
   },
   "outputs": [
    {
     "name": "stdout",
     "output_type": "stream",
     "text": [
      "60 second timeout will commence, then process will continue.\n",
      "Request number: 1 for City named: cidreira SUCCESS\n",
      "Request number: 2 for City named: busselton SUCCESS\n",
      "Request number: 3 for City named: saskylakh SUCCESS\n",
      "Request number: 4 for City named: attawapiskat FAILED\n",
      "Request number: 5 for City named: la ronge SUCCESS\n",
      "Request number: 6 for City named: pevek SUCCESS\n",
      "Request number: 7 for City named: namtsy SUCCESS\n",
      "Request number: 8 for City named: rikitea SUCCESS\n",
      "Request number: 9 for City named: tuggurt FAILED\n",
      "Request number: 10 for City named: airai SUCCESS\n",
      "Request number: 11 for City named: bluff SUCCESS\n",
      "Request number: 12 for City named: mataura SUCCESS\n",
      "Request number: 13 for City named: georgetown SUCCESS\n",
      "Request number: 14 for City named: lebu SUCCESS\n",
      "Request number: 15 for City named: port elizabeth SUCCESS\n",
      "Request number: 16 for City named: amderma FAILED\n",
      "Request number: 17 for City named: anopino SUCCESS\n",
      "Request number: 18 for City named: shingu SUCCESS\n",
      "Request number: 19 for City named: pacific grove SUCCESS\n",
      "Request number: 20 for City named: saint-philippe SUCCESS\n",
      "Request number: 21 for City named: bisira SUCCESS\n",
      "Request number: 22 for City named: avera SUCCESS\n",
      "Request number: 23 for City named: dukat SUCCESS\n",
      "Request number: 24 for City named: rawson SUCCESS\n",
      "Request number: 25 for City named: labuhan SUCCESS\n",
      "Request number: 26 for City named: torbay SUCCESS\n",
      "Request number: 27 for City named: kaeo SUCCESS\n",
      "Request number: 28 for City named: nanortalik SUCCESS\n",
      "Request number: 29 for City named: upernavik SUCCESS\n",
      "Request number: 30 for City named: narsaq SUCCESS\n",
      "Request number: 31 for City named: nikolskoye SUCCESS\n",
      "Request number: 32 for City named: bethel SUCCESS\n",
      "Request number: 33 for City named: arona SUCCESS\n",
      "Request number: 34 for City named: tasiilaq SUCCESS\n",
      "Request number: 35 for City named: hermanus SUCCESS\n",
      "Request number: 36 for City named: grand-santi SUCCESS\n",
      "Request number: 37 for City named: bredasdorp SUCCESS\n",
      "Request number: 38 for City named: faanui SUCCESS\n",
      "Request number: 39 for City named: jamestown SUCCESS\n",
      "Request number: 40 for City named: khandagayty SUCCESS\n",
      "Request number: 41 for City named: illoqqortoormiut FAILED\n",
      "Request number: 42 for City named: taolanaro FAILED\n",
      "Request number: 43 for City named: cabo san lucas SUCCESS\n",
      "Request number: 44 for City named: tuktoyaktuk SUCCESS\n",
      "Request number: 45 for City named: yar-sale SUCCESS\n",
      "Request number: 46 for City named: belushya guba FAILED\n",
      "Request number: 47 for City named: punta arenas SUCCESS\n",
      "Request number: 48 for City named: greiz SUCCESS\n",
      "Request number: 49 for City named: warqla FAILED\n",
      "Request number: 50 for City named: general roca SUCCESS\n",
      "60 second timeout will commence, then process will continue.\n",
      "Request number: 51 for City named: clyde river SUCCESS\n",
      "Request number: 52 for City named: longyearbyen SUCCESS\n",
      "Request number: 53 for City named: qaanaaq SUCCESS\n",
      "Request number: 54 for City named: kapaa SUCCESS\n",
      "Request number: 55 for City named: kazalinsk FAILED\n",
      "Request number: 56 for City named: fairbanks SUCCESS\n",
      "Request number: 57 for City named: itoman SUCCESS\n",
      "Request number: 58 for City named: lolua FAILED\n",
      "Request number: 59 for City named: bowen SUCCESS\n",
      "Request number: 60 for City named: brae SUCCESS\n",
      "Request number: 61 for City named: makakilo city SUCCESS\n",
      "Request number: 62 for City named: ushuaia SUCCESS\n",
      "Request number: 63 for City named: cape town SUCCESS\n",
      "Request number: 64 for City named: kruisfontein SUCCESS\n",
      "Request number: 65 for City named: new norfolk SUCCESS\n",
      "Request number: 66 for City named: hobart SUCCESS\n",
      "Request number: 67 for City named: nalut SUCCESS\n",
      "Request number: 68 for City named: mys shmidta FAILED\n",
      "Request number: 69 for City named: san quintin SUCCESS\n",
      "Request number: 70 for City named: kaputa SUCCESS\n",
      "Request number: 71 for City named: port-cartier SUCCESS\n",
      "Request number: 72 for City named: talnakh SUCCESS\n",
      "Request number: 73 for City named: arraial do cabo SUCCESS\n",
      "Request number: 74 for City named: mahebourg SUCCESS\n",
      "Request number: 75 for City named: hasaki SUCCESS\n",
      "Request number: 76 for City named: karaul FAILED\n",
      "Request number: 77 for City named: atuona SUCCESS\n",
      "Request number: 78 for City named: severo-kurilsk SUCCESS\n",
      "Request number: 79 for City named: kahului SUCCESS\n",
      "Request number: 80 for City named: mar del plata SUCCESS\n",
      "Request number: 81 for City named: broken hill SUCCESS\n",
      "Request number: 82 for City named: bambous virieux SUCCESS\n",
      "Request number: 83 for City named: hithadhoo SUCCESS\n",
      "Request number: 84 for City named: kijang SUCCESS\n",
      "Request number: 85 for City named: tsihombe FAILED\n",
      "Request number: 86 for City named: vaini SUCCESS\n",
      "Request number: 87 for City named: te anau SUCCESS\n",
      "Request number: 88 for City named: muyezerskiy SUCCESS\n",
      "Request number: 89 for City named: salmon creek SUCCESS\n",
      "Request number: 90 for City named: safford SUCCESS\n",
      "Request number: 91 for City named: buraydah SUCCESS\n",
      "Request number: 92 for City named: ilhabela SUCCESS\n",
      "Request number: 93 for City named: halalo FAILED\n",
      "Request number: 94 for City named: kavieng SUCCESS\n",
      "Request number: 95 for City named: burgthann SUCCESS\n",
      "Request number: 96 for City named: denau FAILED\n",
      "Request number: 97 for City named: vao SUCCESS\n",
      "Request number: 98 for City named: kambove SUCCESS\n",
      "Request number: 99 for City named: marsala SUCCESS\n",
      "Request number: 100 for City named: geraldton SUCCESS\n",
      "60 second timeout will commence, then process will continue.\n",
      "Request number: 101 for City named: castro SUCCESS\n",
      "Request number: 102 for City named: paciran SUCCESS\n",
      "Request number: 103 for City named: jieshi SUCCESS\n",
      "Request number: 104 for City named: nouakchott SUCCESS\n",
      "Request number: 105 for City named: labuan SUCCESS\n",
      "Request number: 106 for City named: west monroe SUCCESS\n",
      "Request number: 107 for City named: dingle SUCCESS\n",
      "Request number: 108 for City named: litovko SUCCESS\n",
      "Request number: 109 for City named: kidal SUCCESS\n",
      "Request number: 110 for City named: norman wells SUCCESS\n",
      "Request number: 111 for City named: sujawal FAILED\n",
      "Request number: 112 for City named: mainaguri SUCCESS\n",
      "Request number: 113 for City named: monywa SUCCESS\n",
      "Request number: 114 for City named: the valley SUCCESS\n",
      "Request number: 115 for City named: college SUCCESS\n",
      "Request number: 116 for City named: butaritari SUCCESS\n",
      "Request number: 117 for City named: spornoye SUCCESS\n",
      "Request number: 118 for City named: sao felix do xingu SUCCESS\n",
      "Request number: 119 for City named: myitkyina SUCCESS\n",
      "Request number: 120 for City named: ust-maya SUCCESS\n",
      "Request number: 121 for City named: trairi SUCCESS\n",
      "Request number: 122 for City named: cherskiy SUCCESS\n",
      "Request number: 123 for City named: yarada SUCCESS\n",
      "Request number: 124 for City named: kodiak SUCCESS\n",
      "Request number: 125 for City named: alice springs SUCCESS\n",
      "Request number: 126 for City named: vaitupu FAILED\n",
      "Request number: 127 for City named: sioux lookout SUCCESS\n",
      "Request number: 128 for City named: ribeira grande SUCCESS\n",
      "Request number: 129 for City named: prosvet SUCCESS\n",
      "Request number: 130 for City named: palabuhanratu FAILED\n",
      "Request number: 131 for City named: auki SUCCESS\n",
      "Request number: 132 for City named: mlonggo SUCCESS\n",
      "Request number: 133 for City named: markova SUCCESS\n",
      "Request number: 134 for City named: san patricio SUCCESS\n",
      "Request number: 135 for City named: ostrovnoy SUCCESS\n",
      "Request number: 136 for City named: mana SUCCESS\n",
      "Request number: 137 for City named: port alfred SUCCESS\n",
      "Request number: 138 for City named: verkhnyaya inta SUCCESS\n",
      "Request number: 139 for City named: oranjemund SUCCESS\n",
      "Request number: 140 for City named: tiksi SUCCESS\n",
      "Request number: 141 for City named: sauda SUCCESS\n",
      "Request number: 142 for City named: albany SUCCESS\n",
      "Request number: 143 for City named: sao filipe SUCCESS\n",
      "Request number: 144 for City named: comodoro rivadavia SUCCESS\n",
      "Request number: 145 for City named: hambantota SUCCESS\n",
      "Request number: 146 for City named: cordoba SUCCESS\n",
      "Request number: 147 for City named: esperance SUCCESS\n",
      "Request number: 148 for City named: hilo SUCCESS\n",
      "Request number: 149 for City named: mehran SUCCESS\n",
      "Request number: 150 for City named: ponta do sol SUCCESS\n",
      "60 second timeout will commence, then process will continue.\n",
      "Request number: 151 for City named: aswan SUCCESS\n",
      "Request number: 152 for City named: mangrol SUCCESS\n"
     ]
    },
    {
     "name": "stdout",
     "output_type": "stream",
     "text": [
      "Request number: 153 for City named: hamilton SUCCESS\n",
      "Request number: 154 for City named: barentsburg FAILED\n",
      "Request number: 155 for City named: portland SUCCESS\n",
      "Request number: 156 for City named: lompoc SUCCESS\n",
      "Request number: 157 for City named: karamay FAILED\n",
      "Request number: 158 for City named: port-gentil SUCCESS\n",
      "Request number: 159 for City named: ulladulla SUCCESS\n",
      "Request number: 160 for City named: shitanjing SUCCESS\n",
      "Request number: 161 for City named: mehamn SUCCESS\n",
      "Request number: 162 for City named: nouadhibou SUCCESS\n",
      "Request number: 163 for City named: magadan SUCCESS\n",
      "Request number: 164 for City named: nanga eboko SUCCESS\n",
      "Request number: 165 for City named: dillon SUCCESS\n",
      "Request number: 166 for City named: zhezkazgan SUCCESS\n",
      "Request number: 167 for City named: dikson SUCCESS\n",
      "Request number: 168 for City named: nizhneyansk FAILED\n",
      "Request number: 169 for City named: champerico SUCCESS\n",
      "Request number: 170 for City named: barbar FAILED\n",
      "Request number: 171 for City named: saint-joseph SUCCESS\n",
      "Request number: 172 for City named: kalianget SUCCESS\n",
      "Request number: 173 for City named: mayo SUCCESS\n",
      "Request number: 174 for City named: kununurra SUCCESS\n",
      "Request number: 175 for City named: keflavik SUCCESS\n",
      "Request number: 176 for City named: half moon bay SUCCESS\n",
      "Request number: 177 for City named: san andres SUCCESS\n",
      "Request number: 178 for City named: pouebo SUCCESS\n",
      "Request number: 179 for City named: abha SUCCESS\n",
      "Request number: 180 for City named: tecoanapa SUCCESS\n",
      "Request number: 181 for City named: coihaique SUCCESS\n",
      "Request number: 182 for City named: krasnyy chikoy SUCCESS\n",
      "Request number: 183 for City named: bac lieu SUCCESS\n",
      "Request number: 184 for City named: avarua SUCCESS\n",
      "Request number: 185 for City named: mikuni SUCCESS\n",
      "Request number: 186 for City named: haines junction SUCCESS\n",
      "Request number: 187 for City named: chokurdakh SUCCESS\n",
      "Request number: 188 for City named: thompson SUCCESS\n",
      "Request number: 189 for City named: kehtna SUCCESS\n",
      "Request number: 190 for City named: tunceli SUCCESS\n",
      "Request number: 191 for City named: mecca SUCCESS\n",
      "Request number: 192 for City named: xichang SUCCESS\n",
      "Request number: 193 for City named: matangad SUCCESS\n",
      "Request number: 194 for City named: gat SUCCESS\n",
      "Request number: 195 for City named: igarka SUCCESS\n",
      "Request number: 196 for City named: leningradskiy SUCCESS\n",
      "Request number: 197 for City named: kennett SUCCESS\n",
      "Request number: 198 for City named: karratha SUCCESS\n",
      "Request number: 199 for City named: rocha SUCCESS\n",
      "Request number: 200 for City named: kungurtug SUCCESS\n",
      "60 second timeout will commence, then process will continue.\n",
      "Request number: 201 for City named: ucluelet SUCCESS\n",
      "Request number: 202 for City named: alofi SUCCESS\n",
      "Request number: 203 for City named: dunedin SUCCESS\n",
      "Request number: 204 for City named: ukiah SUCCESS\n",
      "Request number: 205 for City named: carnarvon SUCCESS\n",
      "Request number: 206 for City named: visnes SUCCESS\n",
      "Request number: 207 for City named: melville SUCCESS\n",
      "Request number: 208 for City named: manitowoc SUCCESS\n",
      "Request number: 209 for City named: saint george SUCCESS\n",
      "Request number: 210 for City named: ulhasnagar SUCCESS\n",
      "Request number: 211 for City named: gizo SUCCESS\n",
      "Request number: 212 for City named: roald SUCCESS\n",
      "Request number: 213 for City named: goias SUCCESS\n",
      "Request number: 214 for City named: amparafaravola SUCCESS\n",
      "Request number: 215 for City named: shahpur city FAILED\n",
      "Request number: 216 for City named: tumannyy FAILED\n",
      "Request number: 217 for City named: almenevo FAILED\n",
      "Request number: 218 for City named: sentyabrskiy FAILED\n",
      "Request number: 219 for City named: sataua FAILED\n",
      "Request number: 220 for City named: worthington SUCCESS\n",
      "Request number: 221 for City named: tonekabon SUCCESS\n",
      "Request number: 222 for City named: marcona FAILED\n",
      "Request number: 223 for City named: komsomolets SUCCESS\n",
      "Request number: 224 for City named: saleaula FAILED\n",
      "Request number: 225 for City named: nome SUCCESS\n",
      "Request number: 226 for City named: ilulissat SUCCESS\n",
      "Request number: 227 for City named: porto novo SUCCESS\n",
      "Request number: 228 for City named: helong SUCCESS\n",
      "Request number: 229 for City named: boende SUCCESS\n",
      "Request number: 230 for City named: dauphin SUCCESS\n",
      "Request number: 231 for City named: chumikan SUCCESS\n",
      "Request number: 232 for City named: chapais SUCCESS\n",
      "Request number: 233 for City named: biak SUCCESS\n",
      "Request number: 234 for City named: chuy SUCCESS\n",
      "Request number: 235 for City named: faya SUCCESS\n",
      "Request number: 236 for City named: atar SUCCESS\n",
      "Request number: 237 for City named: port huron SUCCESS\n",
      "Request number: 238 for City named: barrow SUCCESS\n",
      "Request number: 239 for City named: semey SUCCESS\n",
      "Request number: 240 for City named: klaksvik SUCCESS\n",
      "Request number: 241 for City named: nisia floresta SUCCESS\n",
      "Request number: 242 for City named: petropavlovsk-kamchatskiy SUCCESS\n",
      "Request number: 243 for City named: zhuhai SUCCESS\n",
      "Request number: 244 for City named: khatanga SUCCESS\n",
      "Request number: 245 for City named: deqing SUCCESS\n",
      "Request number: 246 for City named: portales SUCCESS\n",
      "Request number: 247 for City named: hollola SUCCESS\n",
      "Request number: 248 for City named: flinders SUCCESS\n",
      "Request number: 249 for City named: port pirie SUCCESS\n",
      "Request number: 250 for City named: constitucion SUCCESS\n",
      "60 second timeout will commence, then process will continue.\n",
      "Request number: 251 for City named: dudinka SUCCESS\n",
      "Request number: 252 for City named: henties bay SUCCESS\n",
      "Request number: 253 for City named: koboldo FAILED\n",
      "Request number: 254 for City named: voh SUCCESS\n",
      "Request number: 255 for City named: newberry SUCCESS\n",
      "Request number: 256 for City named: xining SUCCESS\n",
      "Request number: 257 for City named: ranong SUCCESS\n",
      "Request number: 258 for City named: sinnamary SUCCESS\n",
      "Request number: 259 for City named: jacareacanga SUCCESS\n",
      "Request number: 260 for City named: kukuna SUCCESS\n",
      "Request number: 261 for City named: meulaboh SUCCESS\n",
      "Request number: 262 for City named: tezu SUCCESS\n",
      "Request number: 263 for City named: yambio SUCCESS\n",
      "Request number: 264 for City named: takoradi SUCCESS\n",
      "Request number: 265 for City named: yaonahuac SUCCESS\n",
      "Request number: 266 for City named: battle creek SUCCESS\n",
      "Request number: 267 for City named: kamaishi SUCCESS\n",
      "Request number: 268 for City named: lazaro cardenas SUCCESS\n",
      "Request number: 269 for City named: dublin SUCCESS\n",
      "Request number: 270 for City named: west bay SUCCESS\n",
      "Request number: 271 for City named: kaitangata SUCCESS\n",
      "Request number: 272 for City named: rockhampton SUCCESS\n",
      "Request number: 273 for City named: bilibino SUCCESS\n",
      "Request number: 274 for City named: marktredwitz SUCCESS\n",
      "Request number: 275 for City named: chapleau SUCCESS\n",
      "Request number: 276 for City named: vardo SUCCESS\n",
      "Request number: 277 for City named: verkhoyansk SUCCESS\n",
      "Request number: 278 for City named: ossora SUCCESS\n",
      "Request number: 279 for City named: pyapon SUCCESS\n",
      "Request number: 280 for City named: goure SUCCESS\n",
      "Request number: 281 for City named: yellowknife SUCCESS\n",
      "Request number: 282 for City named: puerto armuelles SUCCESS\n",
      "Request number: 283 for City named: aklavik SUCCESS\n",
      "Request number: 284 for City named: umzimvubu FAILED\n",
      "Request number: 285 for City named: clarence town SUCCESS\n",
      "Request number: 286 for City named: gazanjyk SUCCESS\n",
      "Request number: 287 for City named: caravelas SUCCESS\n",
      "Request number: 288 for City named: lavrentiya SUCCESS\n",
      "Request number: 289 for City named: samusu FAILED\n",
      "Request number: 290 for City named: moose jaw SUCCESS\n",
      "Request number: 291 for City named: burica FAILED\n",
      "Request number: 292 for City named: mahina SUCCESS\n",
      "Request number: 293 for City named: ironton SUCCESS\n",
      "Request number: 294 for City named: xalpatlahuac SUCCESS\n",
      "Request number: 295 for City named: east london SUCCESS\n",
      "Request number: 296 for City named: pustoshka SUCCESS\n",
      "Request number: 297 for City named: victoria SUCCESS\n",
      "Request number: 298 for City named: bengkulu SUCCESS\n",
      "Request number: 299 for City named: rochegda SUCCESS\n",
      "Request number: 300 for City named: bogatoye SUCCESS\n",
      "60 second timeout will commence, then process will continue.\n",
      "Request number: 301 for City named: ankazoabo SUCCESS\n",
      "Request number: 302 for City named: filingue SUCCESS\n",
      "Request number: 303 for City named: maxixe SUCCESS\n"
     ]
    },
    {
     "name": "stdout",
     "output_type": "stream",
     "text": [
      "Request number: 304 for City named: san policarpo SUCCESS\n",
      "Request number: 305 for City named: zenzeli SUCCESS\n",
      "Request number: 306 for City named: sistranda SUCCESS\n",
      "Request number: 307 for City named: warrnambool SUCCESS\n",
      "Request number: 308 for City named: bolungarvik FAILED\n",
      "Request number: 309 for City named: grand river south east FAILED\n",
      "Request number: 310 for City named: armacao dos buzios FAILED\n",
      "Request number: 311 for City named: la romana SUCCESS\n",
      "Request number: 312 for City named: puerto ayora SUCCESS\n",
      "Request number: 313 for City named: geelong SUCCESS\n",
      "Request number: 314 for City named: guerrero negro SUCCESS\n",
      "Request number: 315 for City named: sechura SUCCESS\n",
      "Request number: 316 for City named: bagdarin SUCCESS\n",
      "Request number: 317 for City named: iqaluit SUCCESS\n",
      "Request number: 318 for City named: ambon SUCCESS\n",
      "Request number: 319 for City named: kuusamo SUCCESS\n",
      "Request number: 320 for City named: itirucu SUCCESS\n",
      "Request number: 321 for City named: chardara SUCCESS\n",
      "Request number: 322 for City named: ozernovskiy SUCCESS\n",
      "Request number: 323 for City named: gold coast SUCCESS\n",
      "Request number: 324 for City named: mandalgovi SUCCESS\n",
      "Request number: 325 for City named: salalah SUCCESS\n",
      "Request number: 326 for City named: praia SUCCESS\n",
      "Request number: 327 for City named: banda aceh SUCCESS\n",
      "Request number: 328 for City named: saint-felicien SUCCESS\n",
      "Request number: 329 for City named: nioro SUCCESS\n",
      "Request number: 330 for City named: jalu SUCCESS\n",
      "Request number: 331 for City named: padang SUCCESS\n",
      "Request number: 332 for City named: provideniya SUCCESS\n",
      "Request number: 333 for City named: hovd SUCCESS\n",
      "Request number: 334 for City named: cayenne SUCCESS\n",
      "Request number: 335 for City named: bako SUCCESS\n",
      "Request number: 336 for City named: tasbuget FAILED\n",
      "Request number: 337 for City named: pisco SUCCESS\n",
      "Request number: 338 for City named: kuching SUCCESS\n",
      "Request number: 339 for City named: rock sound SUCCESS\n",
      "Request number: 340 for City named: misratah SUCCESS\n",
      "Request number: 341 for City named: margate SUCCESS\n",
      "Request number: 342 for City named: walvis bay SUCCESS\n",
      "Request number: 343 for City named: hearst SUCCESS\n",
      "Request number: 344 for City named: eureka SUCCESS\n",
      "Request number: 345 for City named: pangai SUCCESS\n",
      "Request number: 346 for City named: mayen SUCCESS\n",
      "Request number: 347 for City named: oslob SUCCESS\n",
      "Request number: 348 for City named: laukaa SUCCESS\n",
      "Request number: 349 for City named: porto velho SUCCESS\n",
      "Request number: 350 for City named: sangar SUCCESS\n",
      "60 second timeout will commence, then process will continue.\n",
      "Request number: 351 for City named: oktyabrskiy SUCCESS\n",
      "Request number: 352 for City named: kamenskoye FAILED\n",
      "Request number: 353 for City named: darhan SUCCESS\n",
      "Request number: 354 for City named: saldanha SUCCESS\n",
      "Request number: 355 for City named: katsuura SUCCESS\n",
      "Request number: 356 for City named: jishou SUCCESS\n",
      "Request number: 357 for City named: nyurba SUCCESS\n",
      "Request number: 358 for City named: haukipudas SUCCESS\n",
      "Request number: 359 for City named: sault sainte marie SUCCESS\n",
      "Request number: 360 for City named: cap malheureux SUCCESS\n",
      "Request number: 361 for City named: kavaratti SUCCESS\n",
      "Request number: 362 for City named: krasnoselkup SUCCESS\n",
      "Request number: 363 for City named: cheuskiny FAILED\n",
      "Request number: 364 for City named: arlit SUCCESS\n",
      "Request number: 365 for City named: moundou SUCCESS\n",
      "Request number: 366 for City named: buala SUCCESS\n",
      "Request number: 367 for City named: laguna de duero SUCCESS\n",
      "Request number: 368 for City named: coruripe SUCCESS\n",
      "Request number: 369 for City named: maarsen FAILED\n",
      "Request number: 370 for City named: berdigestyakh SUCCESS\n",
      "Request number: 371 for City named: tawkar FAILED\n",
      "Request number: 372 for City named: laizhou SUCCESS\n",
      "Request number: 373 for City named: port lincoln SUCCESS\n",
      "Request number: 374 for City named: oranjestad SUCCESS\n",
      "Request number: 375 for City named: warri SUCCESS\n",
      "Request number: 376 for City named: toamasina SUCCESS\n",
      "Request number: 377 for City named: blacklick estates SUCCESS\n",
      "Request number: 378 for City named: oytal SUCCESS\n",
      "Request number: 379 for City named: ndjole SUCCESS\n",
      "Request number: 380 for City named: columbus SUCCESS\n",
      "Request number: 381 for City named: puerto madero SUCCESS\n",
      "Request number: 382 for City named: abasolo SUCCESS\n",
      "Request number: 383 for City named: ife SUCCESS\n",
      "Request number: 384 for City named: quzhou SUCCESS\n",
      "Request number: 385 for City named: coahuayana SUCCESS\n",
      "Request number: 386 for City named: byron bay SUCCESS\n",
      "Request number: 387 for City named: beringovskiy SUCCESS\n",
      "Request number: 388 for City named: viedma SUCCESS\n",
      "Request number: 389 for City named: vostok SUCCESS\n",
      "Request number: 390 for City named: bergkamen SUCCESS\n",
      "Request number: 391 for City named: ampanihy SUCCESS\n",
      "Request number: 392 for City named: chiautla SUCCESS\n",
      "Request number: 393 for City named: linxia SUCCESS\n",
      "Request number: 394 for City named: kasulu SUCCESS\n",
      "Request number: 395 for City named: camana SUCCESS\n",
      "Request number: 396 for City named: chumphon SUCCESS\n",
      "Request number: 397 for City named: kropotkin SUCCESS\n",
      "Request number: 398 for City named: jumla SUCCESS\n",
      "Request number: 399 for City named: ojinaga SUCCESS\n",
      "Request number: 400 for City named: la rioja SUCCESS\n",
      "60 second timeout will commence, then process will continue.\n",
      "Request number: 401 for City named: lima SUCCESS\n",
      "Request number: 402 for City named: dordrecht SUCCESS\n",
      "Request number: 403 for City named: sham churasi SUCCESS\n",
      "Request number: 404 for City named: spruce grove SUCCESS\n",
      "Request number: 405 for City named: curaca SUCCESS\n",
      "Request number: 406 for City named: mahadday weyne FAILED\n",
      "Request number: 407 for City named: bur gabo FAILED\n",
      "Request number: 408 for City named: kikwit SUCCESS\n",
      "Request number: 409 for City named: puerto baquerizo moreno SUCCESS\n",
      "Request number: 410 for City named: diamantino SUCCESS\n",
      "Request number: 411 for City named: jingdezhen SUCCESS\n",
      "Request number: 412 for City named: okato SUCCESS\n",
      "Request number: 413 for City named: namatanai SUCCESS\n",
      "Request number: 414 for City named: kouango SUCCESS\n",
      "Request number: 415 for City named: derzhavinsk SUCCESS\n",
      "Request number: 416 for City named: acapulco SUCCESS\n",
      "Request number: 417 for City named: lardos SUCCESS\n",
      "Request number: 418 for City named: port hardy SUCCESS\n",
      "Request number: 419 for City named: sedelnikovo FAILED\n",
      "Request number: 420 for City named: souillac SUCCESS\n",
      "Request number: 421 for City named: grand gaube SUCCESS\n",
      "Request number: 422 for City named: point fortin SUCCESS\n",
      "Request number: 423 for City named: samarai SUCCESS\n",
      "Request number: 424 for City named: trincomalee SUCCESS\n",
      "Request number: 425 for City named: ketchikan SUCCESS\n",
      "Request number: 426 for City named: puerto del rosario SUCCESS\n",
      "Request number: 427 for City named: chatrapur SUCCESS\n",
      "Request number: 428 for City named: port macquarie SUCCESS\n",
      "Request number: 429 for City named: tazovskiy SUCCESS\n",
      "Request number: 430 for City named: ouadda SUCCESS\n",
      "Request number: 431 for City named: saint-pierre SUCCESS\n",
      "Request number: 432 for City named: vera cruz SUCCESS\n",
      "Request number: 433 for City named: naifaru SUCCESS\n",
      "Request number: 434 for City named: pilar SUCCESS\n",
      "Request number: 435 for City named: yerbogachen SUCCESS\n",
      "Request number: 436 for City named: deniliquin SUCCESS\n",
      "Request number: 437 for City named: tibu SUCCESS\n",
      "Request number: 438 for City named: sabha SUCCESS\n",
      "Request number: 439 for City named: antalaha SUCCESS\n",
      "Request number: 440 for City named: kumo SUCCESS\n",
      "Request number: 441 for City named: bonavista SUCCESS\n",
      "Request number: 442 for City named: granard SUCCESS\n",
      "Request number: 443 for City named: oyama SUCCESS\n",
      "Request number: 444 for City named: otradnoye SUCCESS\n",
      "Request number: 445 for City named: vila franca do campo SUCCESS\n",
      "Request number: 446 for City named: khatra SUCCESS\n",
      "Request number: 447 for City named: enshi SUCCESS\n",
      "Request number: 448 for City named: fortuna SUCCESS\n",
      "Request number: 449 for City named: loa janan SUCCESS\n",
      "Request number: 450 for City named: karamea FAILED\n",
      "60 second timeout will commence, then process will continue.\n",
      "Request number: 451 for City named: kanigoro SUCCESS\n",
      "Request number: 452 for City named: pascagoula SUCCESS\n",
      "Request number: 453 for City named: vila velha SUCCESS\n"
     ]
    },
    {
     "name": "stdout",
     "output_type": "stream",
     "text": [
      "Request number: 454 for City named: camacha SUCCESS\n",
      "Request number: 455 for City named: magaria SUCCESS\n",
      "Request number: 456 for City named: alta floresta SUCCESS\n",
      "Request number: 457 for City named: westport SUCCESS\n",
      "Request number: 458 for City named: iskateley SUCCESS\n",
      "Request number: 459 for City named: belmonte SUCCESS\n",
      "Request number: 460 for City named: talcahuano SUCCESS\n",
      "Request number: 461 for City named: aguimes SUCCESS\n",
      "Request number: 462 for City named: pervomayskiy SUCCESS\n",
      "Request number: 463 for City named: adrar SUCCESS\n",
      "Request number: 464 for City named: chipinge SUCCESS\n",
      "Request number: 465 for City named: san cristobal SUCCESS\n",
      "Request number: 466 for City named: gorontalo SUCCESS\n",
      "Request number: 467 for City named: benemerito de las americas SUCCESS\n",
      "Request number: 468 for City named: guangyuan SUCCESS\n",
      "Request number: 469 for City named: thinadhoo SUCCESS\n",
      "Request number: 470 for City named: sturgis SUCCESS\n",
      "Request number: 471 for City named: ancud SUCCESS\n",
      "Request number: 472 for City named: sao miguel do araguaia SUCCESS\n",
      "Request number: 473 for City named: kanker SUCCESS\n",
      "Request number: 474 for City named: bichura SUCCESS\n",
      "Request number: 475 for City named: lagoa SUCCESS\n",
      "Request number: 476 for City named: nanyamba SUCCESS\n",
      "Request number: 477 for City named: judaberg SUCCESS\n",
      "Request number: 478 for City named: canazas SUCCESS\n",
      "Request number: 479 for City named: hokitika SUCCESS\n",
      "Request number: 480 for City named: coquimbo SUCCESS\n",
      "Request number: 481 for City named: egvekinot SUCCESS\n",
      "Request number: 482 for City named: kirakira SUCCESS\n",
      "Request number: 483 for City named: bonthe SUCCESS\n",
      "Request number: 484 for City named: sanchazi SUCCESS\n",
      "Request number: 485 for City named: kazachinskoye SUCCESS\n",
      "Request number: 486 for City named: bella union SUCCESS\n",
      "Request number: 487 for City named: tuatapere SUCCESS\n",
      "Request number: 488 for City named: qunduz SUCCESS\n",
      "Request number: 489 for City named: hailar SUCCESS\n",
      "Request number: 490 for City named: tarudant FAILED\n",
      "Request number: 491 for City named: nemuro SUCCESS\n",
      "Request number: 492 for City named: hinton SUCCESS\n",
      "Request number: 493 for City named: sitka SUCCESS\n",
      "Request number: 494 for City named: tingrela FAILED\n",
      "Request number: 495 for City named: urumqi SUCCESS\n",
      "Request number: 496 for City named: riyadh SUCCESS\n",
      "Request number: 497 for City named: guye SUCCESS\n",
      "Request number: 498 for City named: havoysund SUCCESS\n",
      "Request number: 499 for City named: trelew SUCCESS\n",
      "Request number: 500 for City named: naze SUCCESS\n",
      "60 second timeout will commence, then process will continue.\n",
      "Request number: 501 for City named: dong hoi SUCCESS\n",
      "Request number: 502 for City named: arrifes SUCCESS\n",
      "Request number: 503 for City named: sarandi SUCCESS\n",
      "Request number: 504 for City named: puri SUCCESS\n",
      "Request number: 505 for City named: kodinar SUCCESS\n",
      "Request number: 506 for City named: pescara SUCCESS\n",
      "Request number: 507 for City named: anloga SUCCESS\n",
      "Request number: 508 for City named: yeppoon SUCCESS\n",
      "Request number: 509 for City named: zhigansk SUCCESS\n",
      "Request number: 510 for City named: luba SUCCESS\n",
      "Request number: 511 for City named: ituni FAILED\n",
      "Request number: 512 for City named: hihifo FAILED\n",
      "Request number: 513 for City named: lewisporte SUCCESS\n",
      "Request number: 514 for City named: bubaque SUCCESS\n",
      "Request number: 515 for City named: antofagasta SUCCESS\n",
      "Request number: 516 for City named: kamenka SUCCESS\n",
      "Request number: 517 for City named: sao joao da barra SUCCESS\n",
      "Request number: 518 for City named: santa cruz SUCCESS\n",
      "Request number: 519 for City named: tomatlan SUCCESS\n",
      "Request number: 520 for City named: beloha SUCCESS\n",
      "Request number: 521 for City named: mabaruma SUCCESS\n",
      "Request number: 522 for City named: wagar SUCCESS\n",
      "Request number: 523 for City named: brewster SUCCESS\n",
      "Request number: 524 for City named: dutlwe SUCCESS\n",
      "Request number: 525 for City named: vaitape SUCCESS\n",
      "Request number: 526 for City named: razlog SUCCESS\n",
      "Request number: 527 for City named: svetlaya SUCCESS\n",
      "Request number: 528 for City named: palana SUCCESS\n",
      "Request number: 529 for City named: husavik SUCCESS\n",
      "Request number: 530 for City named: quelimane SUCCESS\n",
      "Request number: 531 for City named: usinsk SUCCESS\n",
      "Request number: 532 for City named: freeport SUCCESS\n",
      "Request number: 533 for City named: sorland SUCCESS\n",
      "Request number: 534 for City named: huarmey SUCCESS\n",
      "Request number: 535 for City named: ilfracombe SUCCESS\n",
      "Request number: 536 for City named: pemangkat SUCCESS\n",
      "Request number: 537 for City named: korla SUCCESS\n",
      "Request number: 538 for City named: columbia SUCCESS\n",
      "Request number: 539 for City named: wahran FAILED\n",
      "Request number: 540 for City named: bathsheba SUCCESS\n",
      "Request number: 541 for City named: praia da vitoria SUCCESS\n",
      "Request number: 542 for City named: gasa SUCCESS\n",
      "Request number: 543 for City named: necochea SUCCESS\n",
      "Request number: 544 for City named: mujiayingzi SUCCESS\n",
      "Request number: 545 for City named: choachi SUCCESS\n",
      "Request number: 546 for City named: semnan SUCCESS\n",
      "Request number: 547 for City named: yulara SUCCESS\n",
      "Request number: 548 for City named: whitehorse SUCCESS\n",
      "Request number: 549 for City named: taywarah SUCCESS\n",
      "Request number: 550 for City named: that phanom SUCCESS\n",
      "60 second timeout will commence, then process will continue.\n",
      "Request number: 551 for City named: ortigueira SUCCESS\n",
      "Request number: 552 for City named: roebourne SUCCESS\n",
      "Request number: 553 for City named: pangnirtung SUCCESS\n",
      "Request number: 554 for City named: fort nelson SUCCESS\n",
      "Request number: 555 for City named: londoko SUCCESS\n",
      "Request number: 556 for City named: carnot SUCCESS\n",
      "Request number: 557 for City named: saint anthony SUCCESS\n",
      "Request number: 558 for City named: cabedelo SUCCESS\n",
      "Request number: 559 for City named: marawi SUCCESS\n",
      "Request number: 560 for City named: itarema SUCCESS\n",
      "Request number: 561 for City named: batticaloa SUCCESS\n",
      "Request number: 562 for City named: baruun-urt SUCCESS\n",
      "Request number: 563 for City named: los llanos de aridane SUCCESS\n",
      "Request number: 564 for City named: lexington SUCCESS\n",
      "Request number: 565 for City named: timizart SUCCESS\n",
      "Request number: 566 for City named: concepcion del uruguay SUCCESS\n",
      "Request number: 567 for City named: brisbane SUCCESS\n",
      "Request number: 568 for City named: brainerd SUCCESS\n",
      "Request number: 569 for City named: touros SUCCESS\n",
      "Request number: 570 for City named: calvinia SUCCESS\n",
      "Request number: 571 for City named: chake chake SUCCESS\n",
      "Request number: 572 for City named: khandyga SUCCESS\n",
      "Request number: 573 for City named: hofn SUCCESS\n",
      "Request number: 574 for City named: bedford SUCCESS\n",
      "Request number: 575 for City named: kyren SUCCESS\n",
      "Request number: 576 for City named: bossangoa SUCCESS\n",
      "Request number: 577 for City named: cedro SUCCESS\n",
      "Request number: 578 for City named: san pedro SUCCESS\n",
      "Request number: 579 for City named: tiznit SUCCESS\n",
      "Request number: 580 for City named: clinton SUCCESS\n",
      "Request number: 581 for City named: baker SUCCESS\n",
      "Request number: 582 for City named: altamira SUCCESS\n",
      "Request number: 583 for City named: sept-iles SUCCESS\n",
      "Request number: 584 for City named: simao SUCCESS\n",
      "Request number: 585 for City named: penzance SUCCESS\n",
      "Request number: 586 for City named: shubarshi SUCCESS\n",
      "Request number: 587 for City named: urusha SUCCESS\n",
      "Request number: 588 for City named: muros SUCCESS\n",
      "Request number: 589 for City named: binga SUCCESS\n",
      "Request number: 590 for City named: santa cruz de tenerife SUCCESS\n",
      "Request number: 591 for City named: ambovombe SUCCESS\n",
      "Request number: 592 for City named: sanmenxia SUCCESS\n",
      "Request number: 593 for City named: balsas SUCCESS\n",
      "Request number: 594 for City named: southbridge SUCCESS\n",
      "Request number: 595 for City named: traralgon SUCCESS\n",
      "Request number: 596 for City named: tianpeng SUCCESS\n",
      "Request number: 597 for City named: xiongshi FAILED\n",
      "Request number: 598 for City named: nosy varika SUCCESS\n",
      "Request number: 599 for City named: oktyabrskoye SUCCESS\n",
      "Request number: 600 for City named: dzerzhinskoye SUCCESS\n",
      "60 second timeout will commence, then process will continue.\n",
      "Request number: 601 for City named: aybak FAILED\n",
      "Request number: 602 for City named: kurumkan SUCCESS\n",
      "Request number: 603 for City named: davila SUCCESS\n",
      "Request number: 604 for City named: bintulu SUCCESS\n"
     ]
    },
    {
     "name": "stdout",
     "output_type": "stream",
     "text": [
      "Request number: 605 for City named: blackfoot SUCCESS\n",
      "Request number: 606 for City named: benghazi SUCCESS\n",
      "Request number: 607 for City named: bonoua SUCCESS\n",
      "Request number: 608 for City named: honningsvag SUCCESS\n",
      "Request number: 609 for City named: lata SUCCESS\n",
      "Request number: 610 for City named: poco verde SUCCESS\n",
      "Request number: 611 for City named: trinidad SUCCESS\n",
      "Request number: 612 for City named: caloundra SUCCESS\n",
      "Request number: 613 for City named: falam SUCCESS\n",
      "Request number: 614 for City named: azogues SUCCESS\n",
      "Request number: 615 for City named: shelburne SUCCESS\n",
      "Request number: 616 for City named: chatra SUCCESS\n",
      "Request number: 617 for City named: chavakkad SUCCESS\n",
      "Request number: 618 for City named: mahajanga SUCCESS\n",
      "Request number: 619 for City named: batagay-alyta SUCCESS\n",
      "Request number: 620 for City named: pavilosta SUCCESS\n",
      "Request number: 621 for City named: cuamba SUCCESS\n",
      "Request number: 622 for City named: palmer SUCCESS\n",
      "Request number: 623 for City named: bilma SUCCESS\n",
      "Request number: 624 for City named: asuncion nochixtlan SUCCESS\n",
      "\n",
      "PROCESS COMPLETED. 624 Requests processed. \n",
      "\n"
     ]
    }
   ],
   "source": [
    "#Declare an empty list for cities\n",
    "citylist=[]\n",
    "#Declare an empty list to store the full responses\n",
    "response_json = []\n",
    "#Declare an empty list to store the required attributes\n",
    "citynamelist = []\n",
    "latitude = []\n",
    "temperature = []\n",
    "humidity = []\n",
    "cloudiness = []\n",
    "windspeed = []\n",
    "maxtemp = []\n",
    "\n",
    "\n",
    "#Break URL Into Parts for troubleshooting    \n",
    "url1='https://api.openweathermap.org/data/2.5/weather?q='\n",
    "url2='&appid='\n",
    "url3='&units=imperial'\n",
    "\n",
    "#Populate list with a couple vaules\n",
    "citylist=cities\n",
    "\n",
    "#Timeout Related Variables\n",
    "TimeoutPeriod=60\n",
    "TimeoutAfterCount=50\n",
    "#Variable for process finished notification\n",
    "TotalRecordsProcessed=len(citylist)\n",
    "\n",
    "##########################################################\n",
    "#BEGIN : LOOP a request for each of the values in the list of cities, \n",
    "#Pause for 60 sec if the Request count is divisible by 50. \n",
    "##########################################################\n",
    "for x in range(len(citylist)):\n",
    "    if x%TimeoutAfterCount == 0:\n",
    "        print(f\"{TimeoutPeriod} second timeout will commence, then process will continue.\")\n",
    "        time.sleep(TimeoutPeriod)\n",
    "        #print(f\"Request number: {x+1} for City named: {citylist[x]}\")\n",
    "\n",
    "        #Setting the CityName for URL\n",
    "        cityname=citylist[x]\n",
    "        \n",
    "        #Build out URL from parts \n",
    "        FullCityNameAPIURL=url1+str(cityname)+url2+str(weather_api_key)+url3\n",
    "\n",
    "        # Get the response\n",
    "        post_response = requests.get(FullCityNameAPIURL).json()\n",
    "\n",
    "        #If the response Succeeds, place values in appropriate lists          \n",
    "        if 200 == post_response['cod'] :\n",
    "            print(f\"Request number: {x+1} for City named: {citylist[x]} SUCCESS\")\n",
    "            #print(f\"Request URL/URI: {FullCityNameAPIURL}\")\n",
    "            # Save post's JSON\n",
    "            response_json.append(post_response)\n",
    "            citynamelist.append(post_response['name'])        \n",
    "            latitude.append(post_response['coord']['lat'])\n",
    "            temperature.append(post_response['main']['temp'])\n",
    "            humidity.append(post_response['main']['humidity']) \n",
    "            cloudiness.append(post_response['clouds']['all'])\n",
    "            windspeed.append(post_response['wind']['speed'])\n",
    "            maxtemp.append(post_response['main']['temp_max'])\n",
    "        #If the response Fails, then Note Request Failed  \n",
    "        elif \"404\" == post_response['cod']  :\n",
    "            print(f\"Request number: {x+1} for City named: {citylist[x]} FAILED\")\n",
    "            #print(f\"Request URL/URI: {FullCityNameAPIURL}\")\n",
    "        else:\n",
    "            print(f\"Request number: {x+1} for City named: {citylist[x]} OTHER ERROR\")\n",
    "            #print(f\"Request URL/URI: {FullCityNameAPIURL}\")\n",
    "    else:\n",
    "        #print(f\"Request number: {x+1} for City named: {citylist[x]}\")\n",
    "\n",
    "        #Setting the CityName for URL\n",
    "        cityname=citylist[x]\n",
    "        \n",
    "        #Build out URL from parts \n",
    "        FullCityNameAPIURL=url1+str(cityname)+url2+str(weather_api_key)+url3\n",
    "\n",
    "        # Get the response\n",
    "        post_response = requests.get(FullCityNameAPIURL).json()\n",
    "       \n",
    "        #If the response Succeeds, place values in appropriate lists   \n",
    "        if 200 == post_response['cod']  :\n",
    "            print(f\"Request number: {x+1} for City named: {citylist[x]} SUCCESS\")\n",
    "            #print(f\"Request URL/URI: {FullCityNameAPIURL}\")\n",
    "            # Save post's JSON\n",
    "            response_json.append(post_response)            \n",
    "            citynamelist.append(post_response['name'])        \n",
    "            latitude.append(post_response['coord']['lat'])\n",
    "            temperature.append(post_response['main']['temp'])\n",
    "            humidity.append(post_response['main']['humidity']) \n",
    "            cloudiness.append(post_response['clouds']['all'])\n",
    "            windspeed.append(post_response['wind']['speed'])\n",
    "            maxtemp.append(post_response['main']['temp_max'])\n",
    "        #If the response Fails, then Note Request Failed    \n",
    "        elif \"404\" == post_response['cod'] :\n",
    "            print(f\"Request number: {x+1} for City named: {citylist[x]} FAILED\")\n",
    "            #print(f\"Request URL/URI: {FullCityNameAPIURL}\")\n",
    "        else:\n",
    "            print(f\"Request number: {x+1} for City named: {citylist[x]} OTHER ERROR\")\n",
    "            #print(f\"Request URL/URI: {FullCityNameAPIURL}\")\n",
    "      \n",
    "        \n",
    "print(f\"\")\n",
    "print(f\"PROCESS COMPLETED. {TotalRecordsProcessed} Requests processed. \")\n",
    "print(f\"\")   \n",
    "##########################################################\n",
    "#END : LOOP \n",
    "########################################################## \n",
    "    \n",
    "    \n",
    "#############################\n",
    "#Single City API URL Build\n",
    "#############################\n",
    "#cityname='yellowknife'\n",
    "\n",
    "#CityNameAPIURL='https://api.openweathermap.org/data/2.5/weather?q={cityname}&appid={weather_api_key}'\n",
    "\n",
    "#Break URL Into Parts for troubleshooting    \n",
    "#url1='https://api.openweathermap.org/data/2.5/weather?q='\n",
    "#url2='&appid='\n",
    "\n",
    "#Build out URL from parts \n",
    "#FullCityNameAPIURL=url1+str(cityname)+url2+str(weather_api_key)\n",
    "#Review URL Built\n",
    "#print(FullCityNameAPIURL)\n",
    "\n",
    "# Get one of the posts\n",
    "#post_response = requests.get(FullCityNameAPIURL)\n",
    "\n",
    "# Save post's JSON\n",
    "#response_json.append(post_response.json())\n",
    "#############################\n",
    "#END Single City API URL Build\n",
    "#############################\n",
    "\n",
    "\n",
    "\n",
    "# Make a request for each of the values in the list of cities\n",
    "#for x in range(len(cities)):\n",
    "#    print(f\"Making request number: {x} for ID: {indices[x]}\")\n",
    "\n",
    "    # Get one of the posts\n",
    "    #post_response = requests.get(url + str(indices[x]))\n",
    "\n",
    "    # Save post's JSON\n",
    "    #response_json.append(post_response.json())\n",
    "\n",
    "\n",
    "#############################\n",
    "#BEGIN Request Send and Response handling\n",
    "############################# \n",
    "# Pretty Print the output of the JSON\n",
    "#response = requests.get(FullCityNameAPIURL).json()\n",
    "#print(json.dumps(response, indent=4, sort_keys=True))\n",
    "#############################\n",
    "#END Request Send and Response handling\n",
    "#############################\n",
    "\n",
    "\n",
    "#############################\n",
    "#BEGIN TROUBLESHOOT API CREDS - Functional\n",
    "#############################\n",
    "#Set Latitude and Longitude for single Location\n",
    "#lat=43.3814\n",
    "#lon=-92.1141\n",
    "\n",
    "#Setting the URL/URI of the API to be consumed\n",
    "#url='https://api.openweathermap.org/data/2.5/weather?lat={lat}lon={lon}&appid={weather_api_key}'\n",
    "    \n",
    "#Break URL Into Parts for troubleshooting    \n",
    "#url1='https://api.openweathermap.org/data/2.5/weather?lat='\n",
    "#url2='&lon='\n",
    "#url3='&appid='\n",
    "\n",
    "#Build out URL from parts for review\n",
    "#FullURL=url1+str(lat)+url2+str(lon)+url3+str(weather_api_key)\n",
    "#print(FullURL)\n",
    "#############################\n",
    "#END TROUBLESHOOT API CREDS\n",
    "#############################\n",
    "  \n",
    "    \n",
    "#############################\n",
    "#BEGIN Generic Response Troubleshooting\n",
    "#############################    \n",
    "# Print the response to console\n",
    "#print(requests.get(url))\n",
    "\n",
    "# Retrieving data convert to JSON\n",
    "#print(requests.get(url).json())\n",
    "#############################\n",
    "#END Generic Response Troubleshooting\n",
    "#############################"
   ]
  },
  {
   "cell_type": "markdown",
   "metadata": {},
   "source": [
    "### Convert Raw Data to DataFrame\n",
    "* Export the city data into a .csv.\n",
    "* Display the DataFrame"
   ]
  },
  {
   "cell_type": "code",
   "execution_count": 138,
   "metadata": {},
   "outputs": [
    {
     "name": "stdout",
     "output_type": "stream",
     "text": [
      "citynamelist Count: 573\n",
      "latitude Count: 573\n",
      "temperature Count: 573\n",
      "humidity Count: 573\n",
      "cloudiness Count: 573\n",
      "windspeed Count: 573\n",
      "maxtemp Count: 573\n"
     ]
    }
   ],
   "source": [
    "#Checkscript to see how many values were in each list\n",
    "print(F\"citynamelist Count: {len(citynamelist)}\")\n",
    "print(F\"latitude Count: {len(latitude)}\")\n",
    "print(F\"temperature Count: {len(temperature)}\")\n",
    "print(F\"humidity Count: {len(humidity)}\")\n",
    "print(F\"cloudiness Count: {len(cloudiness)}\")\n",
    "print(F\"windspeed Count: {len(windspeed)}\")\n",
    "print(F\"maxtemp Count: {len(maxtemp)}\")"
   ]
  },
  {
   "cell_type": "code",
   "execution_count": 195,
   "metadata": {},
   "outputs": [],
   "source": [
    "# create a data frame from cities, lat, and temp\n",
    "response_dict = {\n",
    "    \"citynamelist\": citynamelist,\n",
    "    \"latitude\": latitude,\n",
    "    \"temperature\": temperature,\n",
    "    \"humidity\": humidity,\n",
    "    \"cloudiness\": cloudiness,\n",
    "    \"windspeed\": windspeed,\n",
    "    \"maxtemp\": maxtemp\n",
    "}\n",
    "\n",
    "\n",
    "# Total Records Pulled back: 573\n",
    "weather_df = pd.DataFrame(response_dict)\n",
    "weather_df.head(573)\n",
    "\n",
    "weather_df.to_csv(output_data_file)\n"
   ]
  },
  {
   "cell_type": "markdown",
   "metadata": {},
   "source": [
    "## Inspect the data and remove the cities where the humidity > 100%.\n",
    "----\n",
    "Skip this step if there are no cities that have humidity > 100%. "
   ]
  },
  {
   "cell_type": "code",
   "execution_count": 142,
   "metadata": {},
   "outputs": [
    {
     "data": {
      "text/html": [
       "<div>\n",
       "<style scoped>\n",
       "    .dataframe tbody tr th:only-of-type {\n",
       "        vertical-align: middle;\n",
       "    }\n",
       "\n",
       "    .dataframe tbody tr th {\n",
       "        vertical-align: top;\n",
       "    }\n",
       "\n",
       "    .dataframe thead th {\n",
       "        text-align: right;\n",
       "    }\n",
       "</style>\n",
       "<table border=\"1\" class=\"dataframe\">\n",
       "  <thead>\n",
       "    <tr style=\"text-align: right;\">\n",
       "      <th></th>\n",
       "      <th>citynamelist</th>\n",
       "      <th>latitude</th>\n",
       "      <th>temperature</th>\n",
       "      <th>humidity</th>\n",
       "      <th>cloudiness</th>\n",
       "      <th>windspeed</th>\n",
       "      <th>maxtemp</th>\n",
       "    </tr>\n",
       "  </thead>\n",
       "  <tbody>\n",
       "  </tbody>\n",
       "</table>\n",
       "</div>"
      ],
      "text/plain": [
       "Empty DataFrame\n",
       "Columns: [citynamelist, latitude, temperature, humidity, cloudiness, windspeed, maxtemp]\n",
       "Index: []"
      ]
     },
     "execution_count": 142,
     "metadata": {},
     "output_type": "execute_result"
    }
   ],
   "source": [
    "#weather_df.head(573)\n",
    "\n",
    "weather_df[weather_df['humidity'] > 100]\n",
    "\n",
    "print('No cities have humidity higher than 100. Moving onward.')"
   ]
  },
  {
   "cell_type": "code",
   "execution_count": null,
   "metadata": {},
   "outputs": [],
   "source": [
    "#  Get the indices of cities that have humidity over 100%.\n"
   ]
  },
  {
   "cell_type": "code",
   "execution_count": null,
   "metadata": {},
   "outputs": [],
   "source": [
    "# Make a new DataFrame equal to the city data to drop all humidity outliers by index.\n",
    "# Passing \"inplace=False\" will make a copy of the city_data DataFrame, which we call \"clean_city_data\".\n"
   ]
  },
  {
   "cell_type": "code",
   "execution_count": 53,
   "metadata": {},
   "outputs": [
    {
     "data": {
      "text/html": [
       "<div>\n",
       "<style scoped>\n",
       "    .dataframe tbody tr th:only-of-type {\n",
       "        vertical-align: middle;\n",
       "    }\n",
       "\n",
       "    .dataframe tbody tr th {\n",
       "        vertical-align: top;\n",
       "    }\n",
       "\n",
       "    .dataframe thead th {\n",
       "        text-align: right;\n",
       "    }\n",
       "</style>\n",
       "<table border=\"1\" class=\"dataframe\">\n",
       "  <thead>\n",
       "    <tr style=\"text-align: right;\">\n",
       "      <th></th>\n",
       "      <th>citynamelist</th>\n",
       "      <th>latitude</th>\n",
       "      <th>temperature</th>\n",
       "      <th>humidity</th>\n",
       "      <th>cloudiness</th>\n",
       "      <th>windspeed</th>\n",
       "    </tr>\n",
       "  </thead>\n",
       "  <tbody>\n",
       "    <tr>\n",
       "      <th>0</th>\n",
       "      <td>Cidreira</td>\n",
       "      <td>-30.1811</td>\n",
       "      <td>292.57</td>\n",
       "      <td>82</td>\n",
       "      <td>0</td>\n",
       "      <td>5.48</td>\n",
       "    </tr>\n",
       "    <tr>\n",
       "      <th>1</th>\n",
       "      <td>Busselton</td>\n",
       "      <td>-33.6500</td>\n",
       "      <td>286.04</td>\n",
       "      <td>89</td>\n",
       "      <td>18</td>\n",
       "      <td>1.28</td>\n",
       "    </tr>\n",
       "    <tr>\n",
       "      <th>2</th>\n",
       "      <td>Saskylakh</td>\n",
       "      <td>71.9167</td>\n",
       "      <td>267.68</td>\n",
       "      <td>95</td>\n",
       "      <td>100</td>\n",
       "      <td>3.69</td>\n",
       "    </tr>\n",
       "    <tr>\n",
       "      <th>3</th>\n",
       "      <td>La Ronge</td>\n",
       "      <td>55.1001</td>\n",
       "      <td>287.29</td>\n",
       "      <td>24</td>\n",
       "      <td>20</td>\n",
       "      <td>3.09</td>\n",
       "    </tr>\n",
       "    <tr>\n",
       "      <th>4</th>\n",
       "      <td>Pevek</td>\n",
       "      <td>69.7008</td>\n",
       "      <td>272.03</td>\n",
       "      <td>76</td>\n",
       "      <td>99</td>\n",
       "      <td>4.56</td>\n",
       "    </tr>\n",
       "  </tbody>\n",
       "</table>\n",
       "</div>"
      ],
      "text/plain": [
       "  citynamelist  latitude  temperature  humidity  cloudiness  windspeed\n",
       "0     Cidreira  -30.1811       292.57        82           0       5.48\n",
       "1    Busselton  -33.6500       286.04        89          18       1.28\n",
       "2    Saskylakh   71.9167       267.68        95         100       3.69\n",
       "3     La Ronge   55.1001       287.29        24          20       3.09\n",
       "4        Pevek   69.7008       272.03        76          99       4.56"
      ]
     },
     "execution_count": 53,
     "metadata": {},
     "output_type": "execute_result"
    }
   ],
   "source": [
    "weather_df.head()"
   ]
  },
  {
   "cell_type": "markdown",
   "metadata": {},
   "source": [
    "## Plotting the Data\n",
    "* Use proper labeling of the plots using plot titles (including date of analysis) and axes labels.\n",
    "* Save the plotted figures as .pngs."
   ]
  },
  {
   "cell_type": "markdown",
   "metadata": {},
   "source": [
    "## Latitude vs. Temperature Plot"
   ]
  },
  {
   "cell_type": "code",
   "execution_count": 200,
   "metadata": {
    "scrolled": true
   },
   "outputs": [
    {
     "data": {
      "image/png": "[encoded data removed]",
      "text/plain": [
       "<Figure size 432x288 with 1 Axes>"
      ]
     },
     "metadata": {
      "needs_background": "light"
     },
     "output_type": "display_data"
    },
    {
     "name": "stdout",
     "output_type": "stream",
     "text": [
      "This plot illustrates that the closer one gets to the equatory, the temperature generally is higher. Note how the value for temperature increases as the latitude values approach zero. \n"
     ]
    }
   ],
   "source": [
    "# Create Scatter Plot Latitude vs Temperature\n",
    "Latitude = weather_df['latitude']\n",
    "Temperature = weather_df['temperature']\n",
    "plt.scatter(Latitude,Temperature)\n",
    "plt.title('Latitude vs Temperature')\n",
    "plt.xlabel('Latitude')\n",
    "plt.ylabel('Temperature')\n",
    "# Final Run- Save Figure\n",
    "plt.savefig(\"Images/01_LatitudevsTemperature.png\")\n",
    "plt.show()\n",
    "print('This plot illustrates that the closer one gets to the equatory, the temperature generally is higher. Note how the value for temperature increases as the latitude values approach zero. ');\n"
   ]
  },
  {
   "cell_type": "markdown",
   "metadata": {},
   "source": [
    "## Latitude vs. Humidity Plot"
   ]
  },
  {
   "cell_type": "code",
   "execution_count": 201,
   "metadata": {},
   "outputs": [
    {
     "data": {
      "image/png": "[encoded data removed]",
      "text/plain": [
       "<Figure size 432x288 with 1 Axes>"
      ]
     },
     "metadata": {
      "needs_background": "light"
     },
     "output_type": "display_data"
    },
    {
     "name": "stdout",
     "output_type": "stream",
     "text": [
      "This plot illustrates that Humidity and Latitude are not especially related.\n"
     ]
    }
   ],
   "source": [
    "# Create a Scatter Plot for latitude vs Humidity\n",
    "Latitude = weather_df['latitude']\n",
    "Humidity = weather_df['humidity']\n",
    "plt.scatter(Latitude,Humidity)\n",
    "plt.title('Latitude vs Humidity')\n",
    "plt.xlabel('Latitude')\n",
    "plt.ylabel('Humidity')\n",
    "# Final Run- Save Figure\n",
    "plt.savefig(\"Images/02_LatitudevsHumidity.png\")\n",
    "plt.show()\n",
    "\n",
    "print('This plot illustrates that Humidity and Latitude are not especially related.')\n"
   ]
  },
  {
   "cell_type": "markdown",
   "metadata": {},
   "source": [
    "## Latitude vs. Cloudiness Plot"
   ]
  },
  {
   "cell_type": "code",
   "execution_count": 202,
   "metadata": {},
   "outputs": [
    {
     "data": {
      "image/png": "[encoded data removed]",
      "text/plain": [
       "<Figure size 432x288 with 1 Axes>"
      ]
     },
     "metadata": {
      "needs_background": "light"
     },
     "output_type": "display_data"
    },
    {
     "name": "stdout",
     "output_type": "stream",
     "text": [
      "This plot illustrates that Latitude and Cloudiness are not especially related.\n"
     ]
    }
   ],
   "source": [
    "# Create a Scatter Plot for latitude vs Cloudiness\n",
    "Latitude = weather_df['latitude']\n",
    "Cloudiness = weather_df['cloudiness']\n",
    "plt.scatter(Latitude,Cloudiness)\n",
    "plt.title('Latitude vs Cloudiness')\n",
    "plt.xlabel('Latitude')\n",
    "plt.ylabel('Cloudiness')\n",
    "# Final Run- Save Figure\n",
    "plt.savefig(\"Images/03_LatitudevsCloudiness.png\")\n",
    "plt.show()\n",
    "\n",
    "print('This plot illustrates that Latitude and Cloudiness are not especially related.')"
   ]
  },
  {
   "cell_type": "markdown",
   "metadata": {},
   "source": [
    "## Latitude vs. Wind Speed Plot"
   ]
  },
  {
   "cell_type": "code",
   "execution_count": 203,
   "metadata": {},
   "outputs": [
    {
     "data": {
      "image/png": "[encoded data removed]",
      "text/plain": [
       "<Figure size 432x288 with 1 Axes>"
      ]
     },
     "metadata": {
      "needs_background": "light"
     },
     "output_type": "display_data"
    },
    {
     "name": "stdout",
     "output_type": "stream",
     "text": [
      "This plot illustrates that Latitude and Cloudiness are not especially related.\n"
     ]
    }
   ],
   "source": [
    "# Create a Scatter Plot for latitude vs Wind Speed\n",
    "Latitude = weather_df['latitude']\n",
    "Windspeed = weather_df['windspeed']\n",
    "plt.scatter(Latitude,Windspeed)\n",
    "plt.title('Latitude vs Wind Speed')\n",
    "plt.xlabel('Latitude')\n",
    "plt.ylabel('Windspeed')\n",
    "# Final Run- Save Figure\n",
    "plt.savefig(\"Images/04_LatitudevsWindSpeed.png\")\n",
    "plt.show()\n",
    "\n",
    "print('This plot illustrates that Latitude and Cloudiness are not especially related.')"
   ]
  },
  {
   "cell_type": "markdown",
   "metadata": {},
   "source": [
    "## Linear Regression"
   ]
  },
  {
   "cell_type": "code",
   "execution_count": 204,
   "metadata": {},
   "outputs": [
    {
     "name": "stdout",
     "output_type": "stream",
     "text": [
      "[77.8711127  78.86159405 48.7189415  53.52061599 49.35165147 51.34600561\n",
      " 75.85502958 71.80227651 82.55923118 82.44293407 67.70837831 79.99421314\n",
      " 78.93811658 53.34986796 59.6215174  58.7979294  75.35197961 66.82083118\n",
      " 59.77550471 51.39343244 81.61703327 71.21916342 55.64311681 79.27561519\n",
      " 52.08065044 48.47050025 51.85979157 52.20619879 57.44065387 61.23011804\n",
      " 50.51842017 79.08108236 68.03993786 79.11349022 73.95995486 57.23341487\n",
      " 54.76747637 62.71736766 49.42209217 50.17041398 84.42946464 54.79126117\n",
      " 80.39869752 49.13224881 46.91954849 47.12930016 62.95027597 50.74019273\n",
      " 61.79401484 74.96885301 52.00835378 63.1582288  84.90059215 78.94034372\n",
      " 78.96247244 81.46924199 81.49688148 60.5923256  60.54949583 71.6715886\n",
      " 54.96732009 49.41284094 75.81100058 75.08061017 59.05045375 72.05166001\n",
      " 54.7830093  63.28734629 80.10431421 78.37618994 75.06196494 69.42476722\n",
      " 59.19010736 75.30672282 82.22136138 50.99845627 56.20158851 59.87829617\n",
      " 61.73653729 76.04285242 69.98852125 55.16188148 75.72551235 72.35900647\n",
      " 58.46131593 77.46725648 76.33209616 71.21696483 62.73949638 64.08937663\n",
      " 67.74678234 59.96838146 66.11274081 55.19497461 63.98792718 50.6133595\n",
      " 61.66780978 62.9384264  64.05191486 50.73473908 68.37666555 54.73563957\n",
      " 71.15072144 62.00570814 52.00255749 70.18936434 49.62313513 64.2138114\n",
      " 52.75256393 76.02055238 54.94827512 58.25570446 53.38635893 71.75687695\n",
      " 71.1189132  55.3549581  61.25370297 49.82212226 67.63756642 78.84463346\n",
      " 50.4137442  77.40538174 48.78447105 52.22130342 57.08976381 65.0001375\n",
      " 82.3498507  67.50482267 78.22300212 78.92346879 63.61999087 59.7960059\n",
      " 59.92606564 62.37401564 63.22395822 58.0653404  56.25506862 59.36288267\n",
      " 69.45883116 79.34699815 58.05083538 48.97049503 63.27698148 52.24525954\n",
      " 67.91621692 59.4264135  55.60379908 48.26488879 65.17034302 75.35432098\n",
      " 71.26644749 58.14980071 73.75534275 50.97801219 58.55639803 65.66011576\n",
      " 75.07829736 64.05208618 64.53740462 82.26661817 54.87283761 66.60228512\n",
      " 75.30894997 58.91231345 51.90676156 49.08539304 53.33690481 52.42697199\n",
      " 58.08678384 63.13544336 61.28813811 66.80447021 60.22778712 49.98955812\n",
      " 49.44230782 58.90685979 75.17472146 79.09952772 54.80570908 55.28154786\n",
      " 74.69554195 82.35199219 58.07482005 76.35368236 52.30553531 57.60563416\n",
      " 56.67100283 58.65904672 63.76646869 71.5671125  51.38392423 73.70223383\n",
      " 74.27403987 57.80559209 58.74122278 53.90745451 50.8363313  49.48987742\n",
      " 67.39849062 57.10700993 69.31532287 54.64866657 53.62963204 55.03870305\n",
      " 69.51416723 78.87504259 64.00391696 63.39522021 56.98388861 48.89771297\n",
      " 54.85947472 51.48577344 70.99265102 54.10735534 62.8926842  48.7046649\n",
      " 60.53193562 59.49220003 51.82173018 79.1280809  78.72833634 79.34222977\n",
      " 49.43588336 75.56826997 75.24010825 59.46695902 58.79821493 66.40789506\n",
      " 67.71634465 71.03008425 66.56944896 68.07240283 61.28234181 67.94796806\n",
      " 67.85876792 63.58087301 57.16939863 58.04155559 64.12578194 58.48829869\n",
      " 63.72363892 82.4683464  75.93012445 49.82169396 54.97542919 55.59346283\n",
      " 49.1604308  49.96728664 52.33988479 64.60404775 65.26071384 51.42027244\n",
      " 66.88830235 49.77472397 78.55701725 58.04786585 74.31093058 50.52732876\n",
      " 54.86261557 74.25211102 58.24996527 64.26614939 78.680367   53.16786997\n",
      " 62.89022863 70.33858327 51.32204949 54.10310091 75.61603945 65.15546681\n",
      " 76.06615182 65.77592747 56.14065602 51.05776123 80.21310184 63.99186752\n",
      " 69.4645418  80.14565922 61.2651528  70.84011992 53.71100861 51.05062293\n",
      " 70.30860243 50.41785586 73.11717912 57.47391833 54.54855911 77.24833923\n",
      " 56.18679796 64.39509556 64.99288499 67.6665479  55.36229626 65.44159825\n",
      " 60.96357408 69.52447493 50.86996695 55.54632153 67.84483397 67.60213192\n",
      " 73.16523413 68.81087379 62.14370567 60.00924106 54.58245174 75.808545\n",
      " 55.06722768 57.60315003 74.90697826 54.8816891  66.53487106 52.48210819\n",
      " 71.75524942 51.00105461 53.69724598 55.12342034 78.67933908 59.22177284\n",
      " 61.16812908 51.18379498 50.6434831  55.97142131 74.95957323 66.23626188\n",
      " 50.49400719 63.90346686 66.80738263 71.57910484 57.38060652 72.14462917\n",
      " 51.52223585 58.63974477 79.17091067 65.67744754 67.6782547  74.44061913\n",
      " 57.85927208 57.00250528 69.30435845 57.84325374 65.05019123 63.41432229\n",
      " 67.12146764 60.98461778 63.90449478 77.43393492 51.25066653 80.90700128\n",
      " 55.9803299  54.51049772 76.30608421 63.67606932 59.08842948 70.56024163\n",
      " 73.99978655 66.30296211 56.27959581 60.89458959 60.8112143  57.1897285\n",
      " 72.692165   54.46004425 60.25928128 53.9679587  71.82046489 70.69281405\n",
      " 69.51042676 73.36756198 60.88887896 80.44629568 70.30040767 67.8276735\n",
      " 54.66277184 64.43841074 58.94740531 54.77709879 75.11161892 74.96591203\n",
      " 66.34579188 72.28485385 66.80612629 53.45148874 61.11567689 63.7284073\n",
      " 78.22865565 49.98955812 66.9470077  75.3464974  72.86065733 67.69889865\n",
      " 71.99375416 51.75700012 79.39933613 66.78673868 61.53332429 73.50795798\n",
      " 66.3853666  55.36235337 53.90134413 58.88864286 52.18506943 58.48412992\n",
      " 62.69098452 60.60183381 57.66136997 69.41991318 71.57482186 60.58304582\n",
      " 75.05822447 59.80711308 65.5420198  72.07324622 57.50624053 49.92856852\n",
      " 73.78286802 79.73723449 61.28556832 54.04930672 63.39941753 75.01785027\n",
      " 67.03575099 69.0989183  64.53740462 59.99022464 69.101174   57.31844625\n",
      " 81.20857999 73.0438831  63.46517551 54.80893559 58.10343034 72.30387027\n",
      " 52.35970069 66.87876559 81.45042545 77.80606855 50.31791972 72.23851204\n",
      " 67.10442139 57.23778351 52.7796038  77.89798124 82.42597348 58.76614971\n",
      " 55.20528231 56.88318153 54.00602009 52.96297234 56.74686864 62.20432408\n",
      " 57.90832644 48.98174499 81.60241404 61.15385249 64.26140956 58.46985333\n",
      " 75.94734202 63.59991798 63.31715581 57.1659437  67.59887685 75.8587415\n",
      " 50.1885738  68.26642171 55.19103427 66.03170688 76.00627579 54.59929812\n",
      " 75.43244248 74.33591461 63.56185659 76.43934191 66.91208715 64.64139531\n",
      " 57.43320149 76.10144355 73.96949162 57.29357642 55.96511105 52.37374886\n",
      " 50.39552727 74.35835742 50.41008939 57.64440938 49.93236609 72.12821109\n",
      " 54.63156322 68.92031814 57.32972475 59.54516619 65.47965965 58.19385827\n",
      " 60.25919562 80.25992905 57.22778989 67.96027448 59.09625305 76.46044271\n",
      " 51.91706926 59.73096175 64.41756691 76.16568821 75.18774171 50.36691698\n",
      " 52.46266347 55.25288047 67.84266393 56.39866258 71.24677435 66.96959326\n",
      " 70.0885716  67.05194064 55.92465119 61.0705343  58.40646527 58.74587695\n",
      " 78.52823564 77.09640775 56.01676376 70.73789953 78.23933454 70.75131952\n",
      " 51.36011088 50.90691477 54.36736062 54.4963639  67.39960419 71.13987123\n",
      " 65.15606643 60.80647447 57.09350427 60.51954354 70.16809222 54.91972193\n",
      " 62.74657757 54.94299278 55.38025622 53.82045296 57.03948165 74.28460454\n",
      " 61.12487101 76.43934191 59.32416455 71.4042166  57.23966802 80.15599547\n",
      " 60.40578766 75.13063534 56.95716283 53.02541815 53.74907    63.97893292\n",
      " 68.34925449 56.92118582 60.08310815 67.74752472 48.98579954 57.78566197\n",
      " 72.31100857 73.48882735 76.90570104 62.71000094 70.03389226 56.66757645\n",
      " 62.33880957 66.24585575 73.74106616 49.89421904 53.01014219 73.48020429\n",
      " 57.21588321 63.91820031 64.26614939]\n"
     ]
    }
   ],
   "source": [
    "# Perform a linear regression on temperature vs. latitude\n",
    "#Change the datatype of the latitude list\n",
    "latitude = pd.to_numeric(latitude)\n",
    "\n",
    "#Find values for regression input\n",
    "(slope, intercept, rvalue, pvalue, stderr) = stats.linregress(latitude, temperature)\n",
    "\n",
    "# Get regression values\n",
    "regress_values = latitude * slope + intercept\n",
    "print(regress_values)"
   ]
  },
  {
   "cell_type": "markdown",
   "metadata": {},
   "source": [
    "####  Northern Hemisphere - Max Temp vs. Latitude Linear Regression"
   ]
  },
  {
   "cell_type": "code",
   "execution_count": 205,
   "metadata": {},
   "outputs": [
    {
     "name": "stdout",
     "output_type": "stream",
     "text": [
      "The regression line equation is: y = -0.91x +96.6\n"
     ]
    },
    {
     "data": {
      "image/png": "[encoded data removed]",
      "text/plain": [
       "<Figure size 432x288 with 1 Axes>"
      ]
     },
     "metadata": {
      "needs_background": "light"
     },
     "output_type": "display_data"
    },
    {
     "name": "stdout",
     "output_type": "stream",
     "text": [
      "This plot illustrates that Latitude and Max Temp are really well correlated as the latitude value approaches the equator.\n"
     ]
    }
   ],
   "source": [
    "# Perform a linear regression on Max Temp vs. Latitude Linear Regression                        DONE\n",
    "LatitudeNorthernHemisphere=[]\n",
    "MaxTempNorthernHemisphere=[]\n",
    "\n",
    "NorthHemisphere_df=weather_df[weather_df['latitude']> 0]\n",
    "LatitudeNorthernHemisphere=NorthHemisphere_df['latitude']\n",
    "MaxTempNorthernHemisphere=NorthHemisphere_df['maxtemp']\n",
    "  \n",
    "#Change the datatype of the Lists\n",
    "LatitudeNorthernHemisphere = pd.to_numeric(LatitudeNorthernHemisphere)\n",
    "MaxTempNorthernHemisphere = pd.to_numeric(MaxTempNorthernHemisphere)    \n",
    "    \n",
    "#Checkscripts    \n",
    "#print(LatitudeNorthernHemisphere)\n",
    "#print(MaxTempNorthernHemisphere)\n",
    "\n",
    "#Find values for regression input\n",
    "(slope, intercept, rvalue, pvalue, stderr) = stats.linregress(LatitudeNorthernHemisphere, MaxTempNorthernHemisphere)\n",
    "\n",
    "# Get regression values\n",
    "regress_values = LatitudeNorthernHemisphere * slope + intercept\n",
    "#print(regress_values)\n",
    "\n",
    "# Create line equation string\n",
    "line_eq = \"y = \" + str(round(slope,2)) + \"x +\" + str(round(intercept,2))\n",
    "print(F\"The regression line equation is: {line_eq}\")\n",
    "\n",
    "\n",
    "# Create a Scatter Plot for latitude vs Wind Speed\n",
    "Latitude = LatitudeNorthernHemisphere\n",
    "MaxTemp = MaxTempNorthernHemisphere\n",
    "plt.scatter(Latitude,MaxTemp)\n",
    "plt.plot(LatitudeNorthernHemisphere,regress_values,\"r-\")\n",
    "plt.annotate(line_eq,(0,1),fontsize=15,color=\"red\")\n",
    "plt.title('Northern Latitude vs Max Temp')\n",
    "plt.xlabel('Latitude')\n",
    "plt.ylabel('MaxTemp')\n",
    "# Final Run- Save Figure\n",
    "plt.savefig(\"Images/05_NORTHLatitudevsMaxTemp.png\")\n",
    "plt.show();\n",
    "\n",
    "print('This plot illustrates that Latitude and Max Temp are really well correlated as the latitude value approaches the equator.')\n"
   ]
  },
  {
   "cell_type": "markdown",
   "metadata": {},
   "source": [
    "####  Southern Hemisphere - Max Temp vs. Latitude Linear Regression"
   ]
  },
  {
   "cell_type": "code",
   "execution_count": 206,
   "metadata": {},
   "outputs": [
    {
     "name": "stdout",
     "output_type": "stream",
     "text": [
      "The regression line equation is: y = 0.71x +84.52\n"
     ]
    },
    {
     "data": {
      "image/png": "[encoded data removed]",
      "text/plain": [
       "<Figure size 432x288 with 1 Axes>"
      ]
     },
     "metadata": {
      "needs_background": "light"
     },
     "output_type": "display_data"
    },
    {
     "name": "stdout",
     "output_type": "stream",
     "text": [
      "This plot illustrates that Latitude and Max Temp are really well correlated as the latitude value approaches the equator.\n"
     ]
    }
   ],
   "source": [
    "# Perform a linear regression on temperature vs. latitude                        DONE\n",
    "LatitudeSouthernHemisphere=[]\n",
    "MaxTempSouthernHemisphere=[]\n",
    "\n",
    "SouthHemisphere_df=weather_df[weather_df['latitude']< 0]\n",
    "LatitudeSouthernHemisphere=SouthHemisphere_df['latitude']\n",
    "MaxTempSouthernHemisphere=SouthHemisphere_df['maxtemp']\n",
    "  \n",
    "#Change the datatype of the Lists\n",
    "LatitudeSouthernHemisphere = pd.to_numeric(LatitudeSouthernHemisphere)\n",
    "MaxTempSouthernHemisphere = pd.to_numeric(MaxTempSouthernHemisphere)    \n",
    "    \n",
    "#Checkscripts    \n",
    "#print(LatitudeSouthernHemisphere)\n",
    "#print(MaxTempSouthernHemisphere)\n",
    "\n",
    "\n",
    "#Find values for regression input\n",
    "(slope, intercept, rvalue, pvalue, stderr) = stats.linregress(LatitudeSouthernHemisphere, MaxTempSouthernHemisphere)\n",
    "\n",
    "# Get regression values\n",
    "regress_values = LatitudeSouthernHemisphere * slope + intercept\n",
    "#print(regress_values)\n",
    "\n",
    "# Create line equation string\n",
    "line_eq = \"y = \" + str(round(slope,2)) + \"x +\" + str(round(intercept,2))\n",
    "print(F\"The regression line equation is: {line_eq}\")\n",
    "\n",
    "\n",
    "# Create a Scatter Plot for latitude vs Wind Speed\n",
    "Latitude = LatitudeSouthernHemisphere\n",
    "MaxTemp = MaxTempSouthernHemisphere\n",
    "plt.scatter(Latitude,MaxTemp)\n",
    "plt.plot(LatitudeSouthernHemisphere,regress_values,\"r-\")\n",
    "plt.annotate(line_eq,(-25,36),fontsize=15,color=\"red\")\n",
    "plt.title('Southern Latitude vs Max Temp')\n",
    "plt.xlabel('Latitude')\n",
    "plt.ylabel('MaxTemp')\n",
    "# Final Run- Save Figure\n",
    "plt.savefig(\"Images/06_SOUTHLatitudevsMaxTemp.png\")\n",
    "plt.show();\n",
    "\n",
    "print('This plot illustrates that Latitude and Max Temp are really well correlated as the latitude value approaches the equator.')\n"
   ]
  },
  {
   "cell_type": "markdown",
   "metadata": {},
   "source": [
    "####  Northern Hemisphere - Humidity (%) vs. Latitude Linear Regression"
   ]
  },
  {
   "cell_type": "code",
   "execution_count": 207,
   "metadata": {},
   "outputs": [
    {
     "name": "stdout",
     "output_type": "stream",
     "text": [
      "The regression line equation is: y = 0.21x +58.06\n"
     ]
    },
    {
     "data": {
      "image/png": "[encoded data removed]",
      "text/plain": [
       "<Figure size 432x288 with 1 Axes>"
      ]
     },
     "metadata": {
      "needs_background": "light"
     },
     "output_type": "display_data"
    },
    {
     "name": "stdout",
     "output_type": "stream",
     "text": [
      "This plot shows a slight correlation between Latitude and Humidity.\n"
     ]
    }
   ],
   "source": [
    "# Perform a linear regression on temperature vs. latitude                        DONE\n",
    "LatitudeNorthernHemisphere=[]\n",
    "HumidityNorthernHemisphere=[]\n",
    "\n",
    "NorthHemisphere_df=weather_df[weather_df['latitude']> 0]\n",
    "LatitudeNorthernHemisphere=NorthHemisphere_df['latitude']\n",
    "HumidityNorthernHemisphere=NorthHemisphere_df['humidity']\n",
    "  \n",
    "#Change the datatype of the Lists\n",
    "LatitudeNorthernHemisphere = pd.to_numeric(LatitudeNorthernHemisphere)\n",
    "HumidityNorthernHemisphere = pd.to_numeric(HumidityNorthernHemisphere)    \n",
    "    \n",
    "#Checkscripts    \n",
    "#print(LatitudeNorthernHemisphere)\n",
    "#print(HumidityNorthernHemisphere)\n",
    "\n",
    "#Find values for regression input\n",
    "(slope, intercept, rvalue, pvalue, stderr) = stats.linregress(LatitudeNorthernHemisphere, HumidityNorthernHemisphere)\n",
    "\n",
    "# Get regression values\n",
    "regress_values = LatitudeNorthernHemisphere * slope + intercept\n",
    "#print(regress_values)\n",
    "\n",
    "# Create line equation string\n",
    "line_eq = \"y = \" + str(round(slope,2)) + \"x +\" + str(round(intercept,2))\n",
    "print(F\"The regression line equation is: {line_eq}\")\n",
    "\n",
    "\n",
    "# Create a Scatter Plot for latitude vs Wind Speed\n",
    "Latitude = LatitudeNorthernHemisphere\n",
    "Humidity = HumidityNorthernHemisphere\n",
    "plt.scatter(Latitude,Humidity)\n",
    "plt.plot(LatitudeNorthernHemisphere,regress_values,\"r-\")\n",
    "plt.annotate(line_eq,(45,1),fontsize=15,color=\"red\")\n",
    "plt.title('Northern Latitude vs Humidity')\n",
    "plt.xlabel('Latitude')\n",
    "plt.ylabel('Humidity')\n",
    "# Final Run- Save Figure\n",
    "plt.savefig(\"Images/07_NORTHLatitudevsHumidity.png\")\n",
    "plt.show();\n",
    "\n",
    "print('This plot shows a slight correlation between Latitude and Humidity.')\n"
   ]
  },
  {
   "cell_type": "markdown",
   "metadata": {},
   "source": [
    "####  Southern Hemisphere - Humidity (%) vs. Latitude Linear Regression"
   ]
  },
  {
   "cell_type": "code",
   "execution_count": 208,
   "metadata": {},
   "outputs": [
    {
     "name": "stdout",
     "output_type": "stream",
     "text": [
      "The regression line equation is: y = 0.12x +76.3\n"
     ]
    },
    {
     "data": {
      "image/png": "[encoded data removed]",
      "text/plain": [
       "<Figure size 432x288 with 1 Axes>"
      ]
     },
     "metadata": {
      "needs_background": "light"
     },
     "output_type": "display_data"
    },
    {
     "name": "stdout",
     "output_type": "stream",
     "text": [
      "This plot shows a slight correlation between Latitude and Humidity.\n"
     ]
    }
   ],
   "source": [
    "# Perform a linear regression on temperature vs. latitude                        DONE\n",
    "LatitudeSouthernHemisphere=[]\n",
    "HumiditySouthernHemisphere=[]\n",
    "\n",
    "SouthHemisphere_df=weather_df[weather_df['latitude']< 0]\n",
    "LatitudeSouthernHemisphere=SouthHemisphere_df['latitude']\n",
    "HumiditySouthernHemisphere=SouthHemisphere_df['humidity']\n",
    "  \n",
    "#Change the datatype of the Lists\n",
    "LatitudeSouthernHemisphere = pd.to_numeric(LatitudeSouthernHemisphere)\n",
    "HumiditySouthernHemisphere = pd.to_numeric(HumiditySouthernHemisphere)    \n",
    "    \n",
    "#Checkscripts    \n",
    "#print(LatitudeSouthernHemisphere)\n",
    "#print(HumiditySouthernHemisphere)\n",
    "\n",
    "#Find values for regression input\n",
    "(slope, intercept, rvalue, pvalue, stderr) = stats.linregress(LatitudeSouthernHemisphere, HumiditySouthernHemisphere)\n",
    "\n",
    "# Get regression values\n",
    "regress_values = LatitudeSouthernHemisphere * slope + intercept\n",
    "#print(regress_values)\n",
    "\n",
    "# Create line equation string\n",
    "line_eq = \"y = \" + str(round(slope,2)) + \"x +\" + str(round(intercept,2))\n",
    "print(F\"The regression line equation is: {line_eq}\")\n",
    "\n",
    "\n",
    "# Create a Scatter Plot for latitude vs Wind Speed\n",
    "Latitude = LatitudeSouthernHemisphere\n",
    "Humidity = HumiditySouthernHemisphere\n",
    "plt.scatter(Latitude,Humidity)\n",
    "plt.plot(LatitudeSouthernHemisphere,regress_values,\"r-\")\n",
    "plt.annotate(line_eq,(-20,20),fontsize=15,color=\"red\")\n",
    "plt.title('Southern Latitude vs Humidity')\n",
    "plt.xlabel('Latitude')\n",
    "plt.ylabel('Humidity')\n",
    "# Final Run- Save Figure\n",
    "plt.savefig(\"Images/08_SOUTHLatitudevsHumidity.png\")\n",
    "plt.show();\n",
    "\n",
    "print('This plot shows a slight correlation between Latitude and Humidity.')\n"
   ]
  },
  {
   "cell_type": "markdown",
   "metadata": {},
   "source": [
    "####  Northern Hemisphere - Cloudiness (%) vs. Latitude Linear Regression"
   ]
  },
  {
   "cell_type": "code",
   "execution_count": 209,
   "metadata": {},
   "outputs": [
    {
     "name": "stdout",
     "output_type": "stream",
     "text": [
      "The regression line equation is: y = 0.14x +55.4\n"
     ]
    },
    {
     "data": {
      "image/png": "[encoded data removed]",
      "text/plain": [
       "<Figure size 432x288 with 1 Axes>"
      ]
     },
     "metadata": {
      "needs_background": "light"
     },
     "output_type": "display_data"
    },
    {
     "name": "stdout",
     "output_type": "stream",
     "text": [
      "This plot shows a slight correlation between Latitude and Cloudiness, with higher latitudes having more slightly cloudiness.\n"
     ]
    }
   ],
   "source": [
    "# Perform a linear regression on temperature vs. latitude                        DONE\n",
    "LatitudeNorthernHemisphere=[]\n",
    "CloudinessNorthernHemisphere=[]\n",
    "\n",
    "NorthHemisphere_df=weather_df[weather_df['latitude']> 0]\n",
    "LatitudeNorthernHemisphere=NorthHemisphere_df['latitude']\n",
    "CloudinessNorthernHemisphere=NorthHemisphere_df['cloudiness']\n",
    "  \n",
    "#Change the datatype of the Lists\n",
    "LatitudeNorthernHemisphere = pd.to_numeric(LatitudeNorthernHemisphere)\n",
    "CloudinessNorthernHemisphere = pd.to_numeric(CloudinessNorthernHemisphere)    \n",
    "    \n",
    "#Checkscripts    \n",
    "#print(LatitudeNorthernHemisphere)\n",
    "#print(CloudinessNorthernHemisphere)\n",
    "\n",
    "#Find values for regression input\n",
    "(slope, intercept, rvalue, pvalue, stderr) = stats.linregress(LatitudeNorthernHemisphere, CloudinessNorthernHemisphere)\n",
    "\n",
    "# Get regression values\n",
    "regress_values = LatitudeNorthernHemisphere * slope + intercept\n",
    "#print(regress_values)\n",
    "\n",
    "# Create line equation string\n",
    "line_eq = \"y = \" + str(round(slope,2)) + \"x +\" + str(round(intercept,2))\n",
    "print(F\"The regression line equation is: {line_eq}\")\n",
    "\n",
    "\n",
    "# Create a Scatter Plot for latitude vs Wind Speed\n",
    "Latitude = LatitudeNorthernHemisphere\n",
    "Cloudiness = CloudinessNorthernHemisphere\n",
    "plt.scatter(Latitude,Cloudiness)\n",
    "plt.plot(LatitudeNorthernHemisphere,regress_values,\"r-\")\n",
    "plt.annotate(line_eq,(50,55),fontsize=15,color=\"red\")\n",
    "plt.title('Northern Latitude vs Cloudiness')\n",
    "plt.xlabel('Latitude')\n",
    "plt.ylabel('Cloudiness')\n",
    "# Final Run- Save Figure\n",
    "plt.savefig(\"Images/09_NORTHLatitudevsCloudiness.png\")\n",
    "plt.show();\n",
    "\n",
    "print('This plot shows a slight correlation between Latitude and Cloudiness, with higher latitudes having more slightly cloudiness.')\n"
   ]
  },
  {
   "cell_type": "markdown",
   "metadata": {},
   "source": [
    "####  Southern Hemisphere - Cloudiness (%) vs. Latitude Linear Regression"
   ]
  },
  {
   "cell_type": "code",
   "execution_count": 210,
   "metadata": {},
   "outputs": [
    {
     "name": "stdout",
     "output_type": "stream",
     "text": [
      "The regression line equation is: y = 0.81x +73.07\n"
     ]
    },
    {
     "data": {
      "image/png": "[encoded data removed]",
      "text/plain": [
       "<Figure size 432x288 with 1 Axes>"
      ]
     },
     "metadata": {
      "needs_background": "light"
     },
     "output_type": "display_data"
    },
    {
     "name": "stdout",
     "output_type": "stream",
     "text": [
      "This plot shows that latitudes closer to the equator had higher cloudiness coverage, which does not correlate with the previous plot.\n"
     ]
    }
   ],
   "source": [
    "# Perform a linear regression on temperature vs. latitude                       DONE\n",
    "LatitudeSouthernHemisphere=[]\n",
    "CloudinessSouthernHemisphere=[]\n",
    "\n",
    "SouthHemisphere_df=weather_df[weather_df['latitude']< 0]\n",
    "LatitudeSouthernHemisphere=SouthHemisphere_df['latitude']\n",
    "CloudinessSouthernHemisphere=SouthHemisphere_df['cloudiness']\n",
    "  \n",
    "#Change the datatype of the Lists\n",
    "LatitudeSouthernHemisphere = pd.to_numeric(LatitudeSouthernHemisphere)\n",
    "CloudinessSouthernHemisphere = pd.to_numeric(CloudinessSouthernHemisphere)    \n",
    "    \n",
    "#Checkscripts    \n",
    "#print(LatitudeSouthernHemisphere)\n",
    "#print(CloudinessSouthernHemisphere)\n",
    "\n",
    "#Find values for regression input\n",
    "(slope, intercept, rvalue, pvalue, stderr) = stats.linregress(LatitudeSouthernHemisphere, CloudinessSouthernHemisphere)\n",
    "\n",
    "# Get regression values\n",
    "regress_values = LatitudeSouthernHemisphere * slope + intercept\n",
    "#print(regress_values)\n",
    "\n",
    "# Create line equation string\n",
    "line_eq = \"y = \" + str(round(slope,2)) + \"x +\" + str(round(intercept,2))\n",
    "print(F\"The regression line equation is: {line_eq}\")\n",
    "\n",
    "\n",
    "# Create a Scatter Plot for latitude vs Wind Speed\n",
    "Latitude = LatitudeSouthernHemisphere\n",
    "Cloudiness = CloudinessSouthernHemisphere\n",
    "plt.scatter(Latitude,Cloudiness)\n",
    "plt.plot(LatitudeSouthernHemisphere,regress_values,\"r-\")\n",
    "plt.annotate(line_eq,(-55,50),fontsize=15,color=\"red\")\n",
    "plt.title('Southern Latitude vs Cloudiness')\n",
    "plt.xlabel('Latitude')\n",
    "plt.ylabel('Cloudiness')\n",
    "# Final Run- Save Figure\n",
    "plt.savefig(\"Images/10_SOUTHLatitudevsCloudiness.png\")\n",
    "plt.show();\n",
    "\n",
    "print('This plot shows that latitudes closer to the equator had higher cloudiness coverage, which does not correlate with the previous plot.')\n"
   ]
  },
  {
   "cell_type": "markdown",
   "metadata": {},
   "source": [
    "####  Northern Hemisphere - Wind Speed (mph) vs. Latitude Linear Regression"
   ]
  },
  {
   "cell_type": "code",
   "execution_count": 211,
   "metadata": {},
   "outputs": [
    {
     "name": "stdout",
     "output_type": "stream",
     "text": [
      "The regression line equation is: y = 0.02x +7.45\n"
     ]
    },
    {
     "data": {
      "image/png": "[encoded data removed]",
      "text/plain": [
       "<Figure size 432x288 with 1 Axes>"
      ]
     },
     "metadata": {
      "needs_background": "light"
     },
     "output_type": "display_data"
    },
    {
     "name": "stdout",
     "output_type": "stream",
     "text": [
      "This plot shows no corelation between Latitude and Wind Speed. \n"
     ]
    }
   ],
   "source": [
    "# Perform a linear regression on temperature vs. latitude                        DONE\n",
    "LatitudeNorthernHemisphere=[]\n",
    "WindspeedNorthernHemisphere=[]\n",
    "\n",
    "NorthHemisphere_df=weather_df[weather_df['latitude']> 0]\n",
    "LatitudeNorthernHemisphere=NorthHemisphere_df['latitude']\n",
    "WindspeedNorthernHemisphere=NorthHemisphere_df['windspeed']\n",
    "  \n",
    "#Change the datatype of the Lists\n",
    "LatitudeNorthernHemisphere = pd.to_numeric(LatitudeNorthernHemisphere)\n",
    "WindspeedNorthernHemisphere = pd.to_numeric(WindspeedNorthernHemisphere)    \n",
    "    \n",
    "#Checkscripts    \n",
    "#print(LatitudeNorthernHemisphere)\n",
    "#print(WindspeedNorthernHemisphere)\n",
    "\n",
    "#Find values for regression input\n",
    "(slope, intercept, rvalue, pvalue, stderr) = stats.linregress(LatitudeNorthernHemisphere, WindspeedNorthernHemisphere)\n",
    "\n",
    "# Get regression values\n",
    "regress_values = LatitudeNorthernHemisphere * slope + intercept\n",
    "#print(regress_values)\n",
    "\n",
    "# Create line equation string\n",
    "line_eq = \"y = \" + str(round(slope,2)) + \"x +\" + str(round(intercept,2))\n",
    "print(F\"The regression line equation is: {line_eq}\")\n",
    "\n",
    "\n",
    "# Create a Scatter Plot for latitude vs Wind Speed\n",
    "Latitude = LatitudeNorthernHemisphere\n",
    "Windspeed = WindspeedNorthernHemisphere\n",
    "plt.scatter(Latitude,Windspeed)\n",
    "plt.plot(LatitudeNorthernHemisphere,regress_values,\"r-\")\n",
    "plt.annotate(line_eq,(25,24),fontsize=15,color=\"red\")\n",
    "plt.title('Northern Latitude vs Wind Speed')\n",
    "plt.xlabel('Latitude')\n",
    "plt.ylabel('Wind Speed')\n",
    "# Final Run- Save Figure\n",
    "plt.savefig(\"Images/11_NORTHLatitudevsWindspeed.png\")\n",
    "plt.show();\n",
    "\n",
    "print('This plot shows no corelation between Latitude and Wind Speed. ')\n"
   ]
  },
  {
   "cell_type": "markdown",
   "metadata": {},
   "source": [
    "####  Southern Hemisphere - Wind Speed (mph) vs. Latitude Linear Regression"
   ]
  },
  {
   "cell_type": "code",
   "execution_count": 212,
   "metadata": {},
   "outputs": [
    {
     "name": "stdout",
     "output_type": "stream",
     "text": [
      "The regression line equation is: y = -0.05x +6.24\n"
     ]
    },
    {
     "data": {
      "image/png": "[encoded data removed]",
      "text/plain": [
       "<Figure size 432x288 with 1 Axes>"
      ]
     },
     "metadata": {
      "needs_background": "light"
     },
     "output_type": "display_data"
    },
    {
     "name": "stdout",
     "output_type": "stream",
     "text": [
      "This plot shows no corelation between Latitude and Wind Speed.\n"
     ]
    }
   ],
   "source": [
    "# Perform a linear regression on temperature vs. latitude                        DONE\n",
    "LatitudeSouthernHemisphere=[]\n",
    "WindspeedSouthernHemisphere=[]\n",
    "\n",
    "SouthHemisphere_df=weather_df[weather_df['latitude']< 0]\n",
    "LatitudeSouthernHemisphere=SouthHemisphere_df['latitude']\n",
    "WindspeedSouthernHemisphere=SouthHemisphere_df['windspeed']\n",
    "  \n",
    "#Change the datatype of the Lists\n",
    "LatitudeSouthernHemisphere = pd.to_numeric(LatitudeSouthernHemisphere)\n",
    "WindspeedSouthernHemisphere = pd.to_numeric(WindspeedSouthernHemisphere)    \n",
    "    \n",
    "#Checkscripts    \n",
    "#print(LatitudeSouthernHemisphere)\n",
    "#print(WindspeedSouthernHemisphere)\n",
    "\n",
    "#Find values for regression input\n",
    "(slope, intercept, rvalue, pvalue, stderr) = stats.linregress(LatitudeSouthernHemisphere, WindspeedSouthernHemisphere)\n",
    "\n",
    "# Get regression values\n",
    "regress_values = LatitudeSouthernHemisphere * slope + intercept\n",
    "#print(regress_values)\n",
    "\n",
    "# Create line equation string\n",
    "line_eq = \"y = \" + str(round(slope,2)) + \"x +\" + str(round(intercept,2))\n",
    "print(F\"The regression line equation is: {line_eq}\")\n",
    "\n",
    "\n",
    "# Create a Scatter Plot for latitude vs Wind Speed\n",
    "Latitude = LatitudeSouthernHemisphere\n",
    "Windspeed = WindspeedSouthernHemisphere\n",
    "plt.scatter(Latitude,Windspeed)\n",
    "plt.plot(LatitudeSouthernHemisphere,regress_values,\"r-\")\n",
    "plt.annotate(line_eq,(0,1),fontsize=15,color=\"red\")\n",
    "plt.title('Southern Latitude vs Wind speed')\n",
    "plt.xlabel('Latitude')\n",
    "plt.ylabel('Windspeed')\n",
    "# Final Run- Save Figure\n",
    "plt.savefig(\"Images/12_SOUTHLatitudevsWindspeed.png\")\n",
    "plt.show();\n",
    "\n",
    "print('This plot shows no corelation between Latitude and Wind Speed.')\n"
   ]
  },
  {
   "cell_type": "code",
   "execution_count": null,
   "metadata": {},
   "outputs": [],
   "source": []
  }
 ],
 "metadata": {
  "anaconda-cloud": {},
  "kernel_info": {
   "name": "python3"
  },
  "kernelspec": {
   "display_name": "Python 3 (ipykernel)",
   "language": "python",
   "name": "python3"
  },
  "language_info": {
   "codemirror_mode": {
    "name": "ipython",
    "version": 3
   },
   "file_extension": ".py",
   "mimetype": "text/x-python",
   "name": "python",
   "nbconvert_exporter": "python",
   "pygments_lexer": "ipython3",
   "version": "3.9.7"
  },
  "latex_envs": {
   "LaTeX_envs_menu_present": true,
   "autoclose": false,
   "autocomplete": true,
   "bibliofile": "biblio.bib",
   "cite_by": "apalike",
   "current_citInitial": 1,
   "eqLabelWithNumbers": true,
   "eqNumInitial": 1,
   "hotkeys": {
    "equation": "Ctrl-E",
    "itemize": "Ctrl-I"
   },
   "labels_anchors": false,
   "latex_user_defs": false,
   "report_style_numbering": false,
   "user_envs_cfg": false
  },
  "nteract": {
   "version": "0.12.3"
  }
 },
 "nbformat": 4,
 "nbformat_minor": 2
}
